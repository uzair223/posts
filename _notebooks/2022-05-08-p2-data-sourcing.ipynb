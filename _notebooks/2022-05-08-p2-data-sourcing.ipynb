{
 "cells": [
  {
   "cell_type": "markdown",
   "metadata": {},
   "source": [
    "# ML Instant House Valuation: Part 2 - Data Sourcing\n",
    "> In this section, I will be collecting data from numerous sourcing and stitching them together in one dataset to use later for machine learning modelling. I will use open data from the HM Land Registry, and various other public sources.\n",
    "\n",
    "- toc:true\n",
    "- branch: master\n",
    "- badges: true\n",
    "- author: Uzair Patel\n",
    "- categories: [house-prices]"
   ]
  },
  {
   "cell_type": "code",
   "execution_count": null,
   "metadata": {},
   "outputs": [],
   "source": [
    "# collapse\n",
    "import os, shutil, zipfile\n",
    "from requests import Session\n",
    "from tqdm import tqdm\n",
    "\n",
    "import numpy as np\n",
    "import pandas as pd\n",
    "import dask.dataframe as dd\n",
    "from dask.diagnostics import ProgressBar"
   ]
  },
  {
   "cell_type": "code",
   "execution_count": null,
   "metadata": {
    "ExecuteTime": {
     "end_time": "2022-02-10T23:04:20.301266Z",
     "start_time": "2022-02-10T23:04:20.287305Z"
    },
    "tags": [
     "hide-input"
    ]
   },
   "outputs": [],
   "source": [
    "# hide\n",
    "RAW_PATH = \"data/raw\"\n",
    "PARTS_PATH = \"data/parts\"\n",
    "os.makedirs(RAW_PATH, exist_ok=True)\n",
    "os.makedirs(PARTS_PATH, exist_ok=True)\n",
    "\n",
    "PPD_PATH = os.path.join(PARTS_PATH, \"pricepaid\")\n",
    "EPC_PATH = os.path.join(PARTS_PATH, \"epc\")\n",
    "MERGED_PATH = os.path.join(PARTS_PATH, \"merged\")\n",
    "PCD_PATH = os.path.join(RAW_PATH, \"postcode-lookup.csv\")\n",
    "HPI_PATH = os.path.join(RAW_PATH, \"house-price-index.csv\")\n"
   ]
  },
  {
   "cell_type": "code",
   "execution_count": null,
   "metadata": {
    "ExecuteTime": {
     "end_time": "2022-02-10T23:04:20.485334Z",
     "start_time": "2022-02-10T23:04:20.384046Z"
    }
   },
   "outputs": [],
   "source": [
    "# hide\n",
    "# General information on dataframe (datatypes, memory usage, nulls, number of unique values)\n",
    "def info(df):\n",
    "    return pd.DataFrame(\n",
    "        dict(dtype=df.dtypes,\n",
    "             memory_usage=df.memory_usage(deep=True),\n",
    "             null=df.isna().sum(),\n",
    "             unique=df.nunique())).reindex([*df.columns, \"Index\"])\n",
    "\n",
    "\n",
    "# Convert bytes integer to bytes string format\n",
    "def to_bytes(size):\n",
    "    for x in ['bytes', 'KB', 'MB', 'GB']:\n",
    "        if size < 1000:\n",
    "            return f\"{size:.2f}{x}\"\n",
    "        size /= 1000.\n",
    "    return size"
   ]
  },
  {
   "cell_type": "markdown",
   "metadata": {},
   "source": [
    "##  Price paid data\n",
    "[***HM Land Registry price paid data***](https://www.gov.uk/guidance/about-the-price-paid-data) tracks the property sales in England and Wales submitted to HM Land Registry for registration, based on the raw data released every month, with data from 1995 to now (January 2022).\n",
    "\n",
    "Column headers:\n",
    "* Price\n",
    "* Date of Transfer\n",
    "* Postcode\n",
    "* Property Type: *D* (Detached), *S* (Semi-Detached), *T* (Terraced), *F* (Flats/Maisonettes), *O* (Other)\n",
    "* Old/New: *Y* (New), *N* (Old)\n",
    "* PAON - Primary Addressable Object Name (e.g house number)\n",
    "* SAON - Secondary Addressable Object Name (e.g unit number)\n",
    "* Street\n",
    "* Locality\n",
    "* Town/City\n",
    "* District"
   ]
  },
  {
   "cell_type": "markdown",
   "metadata": {},
   "source": [
    "### Sampling data\n",
    "Initially, I will take a small chunk of the first 50 thousand rows to test and apply transformations before ultimately applying these transformations to the large dataset. Currently, I will largely be adjusting the dataset to minimise its memory usage by dropping columns and converting data types."
   ]
  },
  {
   "cell_type": "code",
   "execution_count": null,
   "metadata": {
    "ExecuteTime": {
     "end_time": "2022-02-10T23:04:26.960852Z",
     "start_time": "2022-02-10T23:04:20.488327Z"
    }
   },
   "outputs": [],
   "source": [
    "ppdUrl = \"http://prod.publicdata.landregistry.gov.uk.s3-website-eu-west-1.amazonaws.com/pp-complete.csv\"\n",
    "ppdNames = [\n",
    "    \"UID\", \"PRICE\", \"DATE_OF_TRANSFER\", \"POSTCODE\", \"PROPERTY_TYPE\", \"OLD_NEW\",\n",
    "    \"DURATION\", \"PAON\", \"SAON\", \"STREET\", \"LOCALITY\", \"TOWN_CITY\", \"DISTRICT\",\n",
    "    \"COUNTY\", \"PPD_CAT\", \"RECORD_STATUS\"\n",
    "]\n",
    "ppdSample = dd.read_csv(ppdUrl, names=ppdNames, dtype=object).head(n=50_000)"
   ]
  },
  {
   "cell_type": "code",
   "execution_count": null,
   "metadata": {},
   "outputs": [
    {
     "name": "stdout",
     "output_type": "stream",
     "text": [
      "50.77MB\n"
     ]
    },
    {
     "data": {
      "text/html": [
       "<div>\n",
       "<style scoped>\n",
       "    .dataframe tbody tr th:only-of-type {\n",
       "        vertical-align: middle;\n",
       "    }\n",
       "\n",
       "    .dataframe tbody tr th {\n",
       "        vertical-align: top;\n",
       "    }\n",
       "\n",
       "    .dataframe thead th {\n",
       "        text-align: right;\n",
       "    }\n",
       "</style>\n",
       "<table border=\"1\" class=\"dataframe\">\n",
       "  <thead>\n",
       "    <tr style=\"text-align: right;\">\n",
       "      <th></th>\n",
       "      <th>UID</th>\n",
       "      <th>PRICE</th>\n",
       "      <th>DATE_OF_TRANSFER</th>\n",
       "      <th>POSTCODE</th>\n",
       "      <th>PROPERTY_TYPE</th>\n",
       "      <th>OLD_NEW</th>\n",
       "      <th>DURATION</th>\n",
       "      <th>PAON</th>\n",
       "      <th>SAON</th>\n",
       "      <th>STREET</th>\n",
       "      <th>LOCALITY</th>\n",
       "      <th>TOWN_CITY</th>\n",
       "      <th>DISTRICT</th>\n",
       "      <th>COUNTY</th>\n",
       "      <th>PPD_CAT</th>\n",
       "      <th>RECORD_STATUS</th>\n",
       "    </tr>\n",
       "  </thead>\n",
       "  <tbody>\n",
       "    <tr>\n",
       "      <th>0</th>\n",
       "      <td>{5BBE9CB3-6332-4EB0-9CD3-8737CEA4A65A}</td>\n",
       "      <td>42000</td>\n",
       "      <td>1995-12-21 00:00</td>\n",
       "      <td>NE4 9DN</td>\n",
       "      <td>S</td>\n",
       "      <td>N</td>\n",
       "      <td>F</td>\n",
       "      <td>8</td>\n",
       "      <td>NaN</td>\n",
       "      <td>MATFEN PLACE</td>\n",
       "      <td>FENHAM</td>\n",
       "      <td>NEWCASTLE UPON TYNE</td>\n",
       "      <td>NEWCASTLE UPON TYNE</td>\n",
       "      <td>TYNE AND WEAR</td>\n",
       "      <td>A</td>\n",
       "      <td>A</td>\n",
       "    </tr>\n",
       "    <tr>\n",
       "      <th>1</th>\n",
       "      <td>{20E2441A-0F16-49AB-97D4-8737E62A5D93}</td>\n",
       "      <td>95000</td>\n",
       "      <td>1995-03-03 00:00</td>\n",
       "      <td>RM16 4UR</td>\n",
       "      <td>S</td>\n",
       "      <td>N</td>\n",
       "      <td>F</td>\n",
       "      <td>30</td>\n",
       "      <td>NaN</td>\n",
       "      <td>HEATH ROAD</td>\n",
       "      <td>GRAYS</td>\n",
       "      <td>GRAYS</td>\n",
       "      <td>THURROCK</td>\n",
       "      <td>THURROCK</td>\n",
       "      <td>A</td>\n",
       "      <td>A</td>\n",
       "    </tr>\n",
       "    <tr>\n",
       "      <th>2</th>\n",
       "      <td>{D893EE64-4464-44B5-B01B-8E62403ED83C}</td>\n",
       "      <td>74950</td>\n",
       "      <td>1995-10-03 00:00</td>\n",
       "      <td>CW10 9ES</td>\n",
       "      <td>D</td>\n",
       "      <td>Y</td>\n",
       "      <td>F</td>\n",
       "      <td>15</td>\n",
       "      <td>NaN</td>\n",
       "      <td>SHROPSHIRE CLOSE</td>\n",
       "      <td>MIDDLEWICH</td>\n",
       "      <td>MIDDLEWICH</td>\n",
       "      <td>CONGLETON</td>\n",
       "      <td>CHESHIRE</td>\n",
       "      <td>A</td>\n",
       "      <td>A</td>\n",
       "    </tr>\n",
       "    <tr>\n",
       "      <th>3</th>\n",
       "      <td>{F9F753A8-E56A-4ECC-9927-8E626A471A92}</td>\n",
       "      <td>43500</td>\n",
       "      <td>1995-11-14 00:00</td>\n",
       "      <td>TS23 3LA</td>\n",
       "      <td>S</td>\n",
       "      <td>N</td>\n",
       "      <td>F</td>\n",
       "      <td>19</td>\n",
       "      <td>NaN</td>\n",
       "      <td>SLEDMERE CLOSE</td>\n",
       "      <td>BILLINGHAM</td>\n",
       "      <td>BILLINGHAM</td>\n",
       "      <td>STOCKTON-ON-TEES</td>\n",
       "      <td>STOCKTON-ON-TEES</td>\n",
       "      <td>A</td>\n",
       "      <td>A</td>\n",
       "    </tr>\n",
       "    <tr>\n",
       "      <th>4</th>\n",
       "      <td>{E166398A-A19E-470E-BB5A-83B4C254CF6D}</td>\n",
       "      <td>63000</td>\n",
       "      <td>1995-09-08 00:00</td>\n",
       "      <td>CA25 5QH</td>\n",
       "      <td>S</td>\n",
       "      <td>N</td>\n",
       "      <td>F</td>\n",
       "      <td>8</td>\n",
       "      <td>NaN</td>\n",
       "      <td>CROSSINGS CLOSE</td>\n",
       "      <td>CLEATOR MOOR</td>\n",
       "      <td>CLEATOR MOOR</td>\n",
       "      <td>COPELAND</td>\n",
       "      <td>CUMBRIA</td>\n",
       "      <td>A</td>\n",
       "      <td>A</td>\n",
       "    </tr>\n",
       "  </tbody>\n",
       "</table>\n",
       "</div>"
      ],
      "text/plain": [
       "                                      UID  PRICE  DATE_OF_TRANSFER  POSTCODE  \\\n",
       "0  {5BBE9CB3-6332-4EB0-9CD3-8737CEA4A65A}  42000  1995-12-21 00:00   NE4 9DN   \n",
       "1  {20E2441A-0F16-49AB-97D4-8737E62A5D93}  95000  1995-03-03 00:00  RM16 4UR   \n",
       "2  {D893EE64-4464-44B5-B01B-8E62403ED83C}  74950  1995-10-03 00:00  CW10 9ES   \n",
       "3  {F9F753A8-E56A-4ECC-9927-8E626A471A92}  43500  1995-11-14 00:00  TS23 3LA   \n",
       "4  {E166398A-A19E-470E-BB5A-83B4C254CF6D}  63000  1995-09-08 00:00  CA25 5QH   \n",
       "\n",
       "  PROPERTY_TYPE OLD_NEW DURATION PAON SAON            STREET      LOCALITY  \\\n",
       "0             S       N        F    8  NaN      MATFEN PLACE        FENHAM   \n",
       "1             S       N        F   30  NaN        HEATH ROAD         GRAYS   \n",
       "2             D       Y        F   15  NaN  SHROPSHIRE CLOSE    MIDDLEWICH   \n",
       "3             S       N        F   19  NaN    SLEDMERE CLOSE    BILLINGHAM   \n",
       "4             S       N        F    8  NaN   CROSSINGS CLOSE  CLEATOR MOOR   \n",
       "\n",
       "             TOWN_CITY             DISTRICT            COUNTY PPD_CAT  \\\n",
       "0  NEWCASTLE UPON TYNE  NEWCASTLE UPON TYNE     TYNE AND WEAR       A   \n",
       "1                GRAYS             THURROCK          THURROCK       A   \n",
       "2           MIDDLEWICH            CONGLETON          CHESHIRE       A   \n",
       "3           BILLINGHAM     STOCKTON-ON-TEES  STOCKTON-ON-TEES       A   \n",
       "4         CLEATOR MOOR             COPELAND           CUMBRIA       A   \n",
       "\n",
       "  RECORD_STATUS  \n",
       "0             A  \n",
       "1             A  \n",
       "2             A  \n",
       "3             A  \n",
       "4             A  "
      ]
     },
     "metadata": {},
     "output_type": "display_data"
    }
   ],
   "source": [
    "# hide_input\n",
    "originalUsage = to_bytes(ppdSample.memory_usage(deep=True).sum())\n",
    "print(originalUsage)\n",
    "ppdSample.head()"
   ]
  },
  {
   "cell_type": "markdown",
   "metadata": {},
   "source": [
    "#### Dropping empty entries and unnecessary columns\n",
    "The only important columns in the dataset are the price and dates, the location data is not particularly helpful and I will be substituting them for coordinates instead."
   ]
  },
  {
   "cell_type": "code",
   "execution_count": null,
   "metadata": {
    "ExecuteTime": {
     "end_time": "2022-02-10T23:04:27.215264Z",
     "start_time": "2022-02-10T23:04:27.187114Z"
    }
   },
   "outputs": [],
   "source": [
    "ppdFilter = [\n",
    "    \"PRICE\",\n",
    "    \"DATE_OF_TRANSFER\",\n",
    "    \"POSTCODE\",\n",
    "    \"OLD_NEW\",\n",
    "    \"PAON\",  #*\n",
    "    \"SAON\",  #*\n",
    "    \"STREET\"  #*\n",
    "]\n",
    "#* WILL LATER BE DROPPED\n",
    "ppdSample = ppdSample[ppdFilter]"
   ]
  },
  {
   "cell_type": "code",
   "execution_count": null,
   "metadata": {
    "ExecuteTime": {
     "end_time": "2022-02-10T23:04:27.402702Z",
     "start_time": "2022-02-10T23:04:27.216263Z"
    }
   },
   "outputs": [
    {
     "name": "stdout",
     "output_type": "stream",
     "text": [
      "POSTCODE       36\n",
      "PAON            5\n",
      "SAON        46280\n",
      "STREET        750\n",
      "dtype: int64\n"
     ]
    }
   ],
   "source": [
    "# Dropping null entries (ignoring SAON)\n",
    "print(ppdSample.isna().sum()[lambda x: x > 0])\n",
    "l = ppdSample.shape[0]\n",
    "ppdSample = (ppdSample\n",
    "    .dropna(subset=list(filter(lambda x: x != \"SAON\", ppdFilter)))\n",
    "    .reset_index(drop=True))\n"
   ]
  },
  {
   "cell_type": "markdown",
   "metadata": {},
   "source": [
    "#### Converting data types"
   ]
  },
  {
   "cell_type": "code",
   "execution_count": null,
   "metadata": {
    "ExecuteTime": {
     "end_time": "2022-02-10T23:04:27.591962Z",
     "start_time": "2022-02-10T23:04:27.404689Z"
    }
   },
   "outputs": [],
   "source": [
    "ppdSample[\"PRICE\"] = ppdSample.PRICE.astype(\n",
    "    \"float\")  # min max ~2bn | float32 - 4 bytes\n",
    "ppdSample[\"DATE_OF_TRANSFER\"] = dd.to_datetime(\n",
    "    ppdSample.DATE_OF_TRANSFER)  # Converting from string to datetime\n",
    "ppdSample[\"OLD_NEW\"] = ppdSample.OLD_NEW.astype(\"category\")\n",
    "ppdDtype = ppdSample.dtypes.to_dict()\n",
    "ppdDtype[\"DATE_OF_TRANSFER\"] = np.dtype(\"O\")"
   ]
  },
  {
   "cell_type": "markdown",
   "metadata": {},
   "source": [
    "#### Address column\n",
    "Merging `PAON`, `SAON`, `STREET` and `POSTCODE` into one `ADDRESS` column. I will apply the same formatting of \"`SAON PAON STREET POSTCODE`\" to the addresses in the EPC dataset in order to cross-reference and merge the datasets into one."
   ]
  },
  {
   "cell_type": "code",
   "execution_count": null,
   "metadata": {
    "ExecuteTime": {
     "end_time": "2022-02-10T23:04:27.638132Z",
     "start_time": "2022-02-10T23:04:27.594793Z"
    }
   },
   "outputs": [],
   "source": [
    "def ppdFormatAddr(x):\n",
    "    return [\n",
    "        ' '.join(z.strip() for z in y if isinstance(z, str))\n",
    "        for y in x[[\"SAON\", \"PAON\", \"STREET\", \"POSTCODE\"]].values\n",
    "    ]  # List comprehension for performance"
   ]
  },
  {
   "cell_type": "code",
   "execution_count": null,
   "metadata": {
    "ExecuteTime": {
     "end_time": "2022-02-10T23:04:27.907833Z",
     "start_time": "2022-02-10T23:04:27.640243Z"
    }
   },
   "outputs": [
    {
     "data": {
      "text/plain": [
       "0          8 MATFEN PLACE NE4 9DN\n",
       "1          30 HEATH ROAD RM16 4UR\n",
       "2    15 SHROPSHIRE CLOSE CW10 9ES\n",
       "3      19 SLEDMERE CLOSE TS23 3LA\n",
       "4      8 CROSSINGS CLOSE CA25 5QH\n",
       "Name: ADDRESS, dtype: object"
      ]
     },
     "metadata": {},
     "output_type": "display_data"
    }
   ],
   "source": [
    "ppdSample[\"ADDRESS\"] = ppdFormatAddr(ppdSample)\n",
    "# Keeping POSTCODE column for geolocation purposes\n",
    "ppdSample = ppdSample.drop(columns=[\"PAON\", \"SAON\", \"STREET\"])\n",
    "ppdSample.ADDRESS[:5]"
   ]
  },
  {
   "cell_type": "markdown",
   "metadata": {},
   "source": [
    "Processed sample set:"
   ]
  },
  {
   "cell_type": "code",
   "execution_count": null,
   "metadata": {
    "ExecuteTime": {
     "end_time": "2022-02-10T23:04:28.015938Z",
     "start_time": "2022-02-10T23:04:27.909850Z"
    },
    "tags": [
     "hide-input"
    ]
   },
   "outputs": [
    {
     "name": "stdout",
     "output_type": "stream",
     "text": [
      "50.77MB => 8.09MB\n"
     ]
    },
    {
     "data": {
      "text/html": [
       "<div>\n",
       "<style scoped>\n",
       "    .dataframe tbody tr th:only-of-type {\n",
       "        vertical-align: middle;\n",
       "    }\n",
       "\n",
       "    .dataframe tbody tr th {\n",
       "        vertical-align: top;\n",
       "    }\n",
       "\n",
       "    .dataframe thead th {\n",
       "        text-align: right;\n",
       "    }\n",
       "</style>\n",
       "<table border=\"1\" class=\"dataframe\">\n",
       "  <thead>\n",
       "    <tr style=\"text-align: right;\">\n",
       "      <th></th>\n",
       "      <th>dtype</th>\n",
       "      <th>memory_usage</th>\n",
       "      <th>null</th>\n",
       "      <th>unique</th>\n",
       "    </tr>\n",
       "  </thead>\n",
       "  <tbody>\n",
       "    <tr>\n",
       "      <th>PRICE</th>\n",
       "      <td>float64</td>\n",
       "      <td>393736</td>\n",
       "      <td>0.0</td>\n",
       "      <td>2900.0</td>\n",
       "    </tr>\n",
       "    <tr>\n",
       "      <th>DATE_OF_TRANSFER</th>\n",
       "      <td>datetime64[ns]</td>\n",
       "      <td>393736</td>\n",
       "      <td>0.0</td>\n",
       "      <td>356.0</td>\n",
       "    </tr>\n",
       "    <tr>\n",
       "      <th>POSTCODE</th>\n",
       "      <td>object</td>\n",
       "      <td>3171295</td>\n",
       "      <td>0.0</td>\n",
       "      <td>45548.0</td>\n",
       "    </tr>\n",
       "    <tr>\n",
       "      <th>OLD_NEW</th>\n",
       "      <td>category</td>\n",
       "      <td>49441</td>\n",
       "      <td>0.0</td>\n",
       "      <td>2.0</td>\n",
       "    </tr>\n",
       "    <tr>\n",
       "      <th>ADDRESS</th>\n",
       "      <td>object</td>\n",
       "      <td>4085965</td>\n",
       "      <td>0.0</td>\n",
       "      <td>49158.0</td>\n",
       "    </tr>\n",
       "    <tr>\n",
       "      <th>Index</th>\n",
       "      <td>NaN</td>\n",
       "      <td>128</td>\n",
       "      <td>NaN</td>\n",
       "      <td>NaN</td>\n",
       "    </tr>\n",
       "  </tbody>\n",
       "</table>\n",
       "</div>"
      ],
      "text/plain": [
       "                           dtype  memory_usage  null   unique\n",
       "PRICE                    float64        393736   0.0   2900.0\n",
       "DATE_OF_TRANSFER  datetime64[ns]        393736   0.0    356.0\n",
       "POSTCODE                  object       3171295   0.0  45548.0\n",
       "OLD_NEW                 category         49441   0.0      2.0\n",
       "ADDRESS                   object       4085965   0.0  49158.0\n",
       "Index                        NaN           128   NaN      NaN"
      ]
     },
     "metadata": {},
     "output_type": "display_data"
    }
   ],
   "source": [
    "# hide_input\n",
    "_info = info(ppdSample)\n",
    "print(originalUsage, \"=>\", to_bytes(_info[\"memory_usage\"].sum()))\n",
    "_info"
   ]
  },
  {
   "cell_type": "markdown",
   "metadata": {},
   "source": [
    "### Entire dataset\n",
    "I will process and export the dataset using Dask, which utilises parallelisation accross multiple threads to enhance performance."
   ]
  },
  {
   "cell_type": "markdown",
   "metadata": {},
   "source": [
    "#### Pipeline\n",
    "1. Import the entire dataset with preset datatypes and already filtered columns.\n",
    "2. Drop rows with empty entries (ignoring `SAON` column which is largely empty)\n",
    "3. Format addresses in each partition with `ppdFormatAddr` function and set as index\n",
    "4. Drop duplicate addresses, keeping last.\n",
    "5. Drop remaining unneccessary columns.\n",
    "8. Store dataframe"
   ]
  },
  {
   "cell_type": "code",
   "execution_count": null,
   "metadata": {
    "ExecuteTime": {
     "end_time": "2022-02-10T23:04:28.095339Z",
     "start_time": "2022-02-10T23:04:28.017840Z"
    }
   },
   "outputs": [],
   "source": [
    "ppdUrl = \"http://prod.publicdata.landregistry.gov.uk.s3-website-eu-west-1.amazonaws.com/pp-complete.csv\"\n",
    "ppdNames = [\n",
    "    \"UID\", \"PRICE\", \"DATE_OF_TRANSFER\", \"POSTCODE\", \"PROPERTY_TYPE\", \"OLD_NEW\",\n",
    "    \"DURATION\", \"PAON\", \"SAON\", \"STREET\", \"LOCALITY\", \"TOWN_CITY\", \"DISTRICT\",\n",
    "    \"COUNTY\", \"PPD_CAT\", \"RECORD_STATUS\"\n",
    "]\n",
    "ppdFilter = [\n",
    "    \"PRICE\", \"DATE_OF_TRANSFER\", \"POSTCODE\", \"OLD_NEW\", \"PAON\", \"SAON\",\n",
    "    \"STREET\"\n",
    "]\n",
    "ppdDtype = {\n",
    "    \"PRICE\": np.float64,\n",
    "    \"DATE_OF_TRANSFER\": object,\n",
    "    \"POSTCODE\": object,\n",
    "    \"OLD_NEW\": pd.CategoricalDtype(),\n",
    "    \"PAON\": object,\n",
    "    \"SAON\": object,\n",
    "    \"STREET\": object\n",
    "}\n",
    "def ppdFormatAddr(x):\n",
    "    return [\n",
    "        ' '.join(z.strip() for z in y if isinstance(z, str))\n",
    "        for y in x[[\"SAON\", \"PAON\", \"STREET\", \"POSTCODE\"]].values\n",
    "    ]  # List comprehension for performance"
   ]
  },
  {
   "cell_type": "code",
   "execution_count": null,
   "metadata": {
    "ExecuteTime": {
     "end_time": "2022-02-10T23:04:28.860059Z",
     "start_time": "2022-02-10T23:04:28.095472Z"
    }
   },
   "outputs": [],
   "source": [
    "ppdPipeline = (dd\n",
    "    .read_csv(ppdUrl, names=ppdNames, usecols=ppdFilter, parse_dates=[\"DATE_OF_TRANSFER\"], dtype=ppdDtype)\n",
    "    .dropna(subset=filter(lambda x: x != \"SAON\", ppdFilter))\n",
    "    .map_partitions(lambda x: x.assign(ADDRESS=ppdFormatAddr))\n",
    "    .drop_duplicates(subset=\"ADDRESS\",keep=\"last\")\n",
    "    .map_partitions(lambda x: x.set_index(\"ADDRESS\"))\n",
    "    .drop(columns=[\"SAON\", \"PAON\", \"STREET\"])\n",
    ")"
   ]
  },
  {
   "cell_type": "code",
   "execution_count": null,
   "metadata": {
    "ExecuteTime": {
     "end_time": "2022-02-10T23:04:28.921778Z",
     "start_time": "2022-02-10T23:04:28.860059Z"
    }
   },
   "outputs": [],
   "source": [
    "if not os.path.exists(PPD_PATH) and not os.path.exists(DATASET_PATH):\n",
    "    with ProgressBar():\n",
    "        ppdPipeline.to_parquet(PPD_PATH, compression=\"snappy\")\n",
    "ppd = dd.read_parquet(PPD_PATH)"
   ]
  },
  {
   "cell_type": "code",
   "execution_count": null,
   "metadata": {
    "ExecuteTime": {
     "end_time": "2022-02-10T23:05:14.950906Z",
     "start_time": "2022-02-10T23:04:28.923795Z"
    },
    "tags": [
     "remove_input"
    ]
   },
   "outputs": [
    {
     "name": "stdout",
     "output_type": "stream",
     "text": [
      "2.46GB\n",
      "14,876,050 rows\n"
     ]
    },
    {
     "data": {
      "text/html": [
       "<div>\n",
       "<style scoped>\n",
       "    .dataframe tbody tr th:only-of-type {\n",
       "        vertical-align: middle;\n",
       "    }\n",
       "\n",
       "    .dataframe tbody tr th {\n",
       "        vertical-align: top;\n",
       "    }\n",
       "\n",
       "    .dataframe thead th {\n",
       "        text-align: right;\n",
       "    }\n",
       "</style>\n",
       "<table border=\"1\" class=\"dataframe\">\n",
       "  <thead>\n",
       "    <tr style=\"text-align: right;\">\n",
       "      <th></th>\n",
       "      <th>PRICE</th>\n",
       "      <th>DATE_OF_TRANSFER</th>\n",
       "      <th>POSTCODE</th>\n",
       "      <th>OLD_NEW</th>\n",
       "    </tr>\n",
       "    <tr>\n",
       "      <th>ADDRESS</th>\n",
       "      <th></th>\n",
       "      <th></th>\n",
       "      <th></th>\n",
       "      <th></th>\n",
       "    </tr>\n",
       "  </thead>\n",
       "  <tbody>\n",
       "    <tr>\n",
       "      <th>87 THEOBALD ROAD NR1 2NX</th>\n",
       "      <td>37500.0</td>\n",
       "      <td>1995-06-30</td>\n",
       "      <td>NR1 2NX</td>\n",
       "      <td>N</td>\n",
       "    </tr>\n",
       "    <tr>\n",
       "      <th>16 AFON RHOS ESTATE LL55 4SE</th>\n",
       "      <td>44500.0</td>\n",
       "      <td>1995-11-22</td>\n",
       "      <td>LL55 4SE</td>\n",
       "      <td>N</td>\n",
       "    </tr>\n",
       "    <tr>\n",
       "      <th>69 CRANHILL ROAD BA16 0BZ</th>\n",
       "      <td>48500.0</td>\n",
       "      <td>1995-04-13</td>\n",
       "      <td>BA16 0BZ</td>\n",
       "      <td>N</td>\n",
       "    </tr>\n",
       "    <tr>\n",
       "      <th>4 BRIARY LANE SG8 9BZ</th>\n",
       "      <td>53000.0</td>\n",
       "      <td>1995-01-06</td>\n",
       "      <td>SG8 9BZ</td>\n",
       "      <td>N</td>\n",
       "    </tr>\n",
       "    <tr>\n",
       "      <th>133 WOOD LANE CH5 3JF</th>\n",
       "      <td>67500.0</td>\n",
       "      <td>1995-12-12</td>\n",
       "      <td>CH5 3JF</td>\n",
       "      <td>N</td>\n",
       "    </tr>\n",
       "  </tbody>\n",
       "</table>\n",
       "</div>"
      ],
      "text/plain": [
       "                                PRICE DATE_OF_TRANSFER  POSTCODE OLD_NEW\n",
       "ADDRESS                                                                 \n",
       "87 THEOBALD ROAD NR1 2NX      37500.0       1995-06-30   NR1 2NX       N\n",
       "16 AFON RHOS ESTATE LL55 4SE  44500.0       1995-11-22  LL55 4SE       N\n",
       "69 CRANHILL ROAD BA16 0BZ     48500.0       1995-04-13  BA16 0BZ       N\n",
       "4 BRIARY LANE SG8 9BZ         53000.0       1995-01-06   SG8 9BZ       N\n",
       "133 WOOD LANE CH5 3JF         67500.0       1995-12-12   CH5 3JF       N"
      ]
     },
     "metadata": {},
     "output_type": "display_data"
    }
   ],
   "source": [
    "# hide_input\n",
    "print(to_bytes(ppd.memory_usage(deep=True).sum().compute()))\n",
    "print(f\"{ppd.shape[0].compute():,} rows\")\n",
    "ppd.head()"
   ]
  },
  {
   "cell_type": "markdown",
   "metadata": {},
   "source": [
    "## Energy Performance of Buildings Data\n",
    "[***Energy Performance of Buildings Data***](https://epc.opendatacommunities.org/) provides access to *Energy Performance Certificates* and *Display Energy Certificate* data for buildings across England and Wales, based on data released quarterly from 1 October 2008 up to 30 September 2021. The data has to be downloaded manually as it requires authentication in order to access the site.\n",
    "\n",
    "I will only be requiring the EPC data, which has 90 column headers including:\n",
    "* Address headers (Address lines 1 to 3)\n",
    "* Postcode\n",
    "* Number of habitable rooms\n",
    "* Total square footage\n",
    "* Property type"
   ]
  },
  {
   "cell_type": "markdown",
   "metadata": {},
   "source": [
    "### Sampling data\n",
    "I will be following a very similar workflow as to processing the *Price Paid data*. Initially, I will use the first certificate file as a sample set and filter out most unnecessary columns. I will then convert the data types of the remaining columns."
   ]
  },
  {
   "cell_type": "code",
   "execution_count": null,
   "metadata": {
    "ExecuteTime": {
     "end_time": "2022-02-10T23:05:15.915091Z",
     "start_time": "2022-02-10T23:05:14.968856Z"
    }
   },
   "outputs": [],
   "source": [
    "from glob import glob\n",
    "\n",
    "epcPath = os.path.join(RAW_PATH, \"all-domestic-certificates\", \"*\", \"certificates.csv\")\n",
    "epcSample = pd.read_csv(glob(epcPath)[0], low_memory=False)"
   ]
  },
  {
   "cell_type": "code",
   "execution_count": null,
   "metadata": {
    "ExecuteTime": {
     "end_time": "2022-02-10T23:05:16.411743Z",
     "start_time": "2022-02-10T23:05:15.916988Z"
    },
    "tags": [
     "remove_input"
    ]
   },
   "outputs": [
    {
     "name": "stdout",
     "output_type": "stream",
     "text": [
      "207.64MB\n"
     ]
    },
    {
     "data": {
      "text/html": [
       "<div>\n",
       "<style scoped>\n",
       "    .dataframe tbody tr th:only-of-type {\n",
       "        vertical-align: middle;\n",
       "    }\n",
       "\n",
       "    .dataframe tbody tr th {\n",
       "        vertical-align: top;\n",
       "    }\n",
       "\n",
       "    .dataframe thead th {\n",
       "        text-align: right;\n",
       "    }\n",
       "</style>\n",
       "<table border=\"1\" class=\"dataframe\">\n",
       "  <thead>\n",
       "    <tr style=\"text-align: right;\">\n",
       "      <th></th>\n",
       "      <th>LMK_KEY</th>\n",
       "      <th>ADDRESS1</th>\n",
       "      <th>ADDRESS2</th>\n",
       "      <th>ADDRESS3</th>\n",
       "      <th>POSTCODE</th>\n",
       "      <th>BUILDING_REFERENCE_NUMBER</th>\n",
       "      <th>CURRENT_ENERGY_RATING</th>\n",
       "      <th>POTENTIAL_ENERGY_RATING</th>\n",
       "      <th>CURRENT_ENERGY_EFFICIENCY</th>\n",
       "      <th>POTENTIAL_ENERGY_EFFICIENCY</th>\n",
       "      <th>...</th>\n",
       "      <th>LOCAL_AUTHORITY_LABEL</th>\n",
       "      <th>CONSTITUENCY_LABEL</th>\n",
       "      <th>POSTTOWN</th>\n",
       "      <th>CONSTRUCTION_AGE_BAND</th>\n",
       "      <th>LODGEMENT_DATETIME</th>\n",
       "      <th>TENURE</th>\n",
       "      <th>FIXED_LIGHTING_OUTLETS_COUNT</th>\n",
       "      <th>LOW_ENERGY_FIXED_LIGHT_COUNT</th>\n",
       "      <th>UPRN</th>\n",
       "      <th>UPRN_SOURCE</th>\n",
       "    </tr>\n",
       "  </thead>\n",
       "  <tbody>\n",
       "    <tr>\n",
       "      <th>0</th>\n",
       "      <td>208945009062019011009444285518421</td>\n",
       "      <td>15, Elmfield Road</td>\n",
       "      <td>NaN</td>\n",
       "      <td>NaN</td>\n",
       "      <td>GL51 9JJ</td>\n",
       "      <td>2864085568</td>\n",
       "      <td>C</td>\n",
       "      <td>B</td>\n",
       "      <td>71</td>\n",
       "      <td>84</td>\n",
       "      <td>...</td>\n",
       "      <td>Cheltenham</td>\n",
       "      <td>Cheltenham</td>\n",
       "      <td>CHELTENHAM</td>\n",
       "      <td>England and Wales: 1950-1966</td>\n",
       "      <td>2019-01-10 09:44:42</td>\n",
       "      <td>rental (private)</td>\n",
       "      <td>NaN</td>\n",
       "      <td>NaN</td>\n",
       "      <td>1.001204e+11</td>\n",
       "      <td>Address Matched</td>\n",
       "    </tr>\n",
       "    <tr>\n",
       "      <th>1</th>\n",
       "      <td>1296022739962015031912051214438915</td>\n",
       "      <td>15, Lime Close</td>\n",
       "      <td>Prestbury</td>\n",
       "      <td>NaN</td>\n",
       "      <td>GL52 3EF</td>\n",
       "      <td>1185324378</td>\n",
       "      <td>E</td>\n",
       "      <td>C</td>\n",
       "      <td>53</td>\n",
       "      <td>79</td>\n",
       "      <td>...</td>\n",
       "      <td>Cheltenham</td>\n",
       "      <td>Tewkesbury</td>\n",
       "      <td>CHELTENHAM</td>\n",
       "      <td>England and Wales: 1967-1975</td>\n",
       "      <td>2015-03-19 12:05:12</td>\n",
       "      <td>owner-occupied</td>\n",
       "      <td>NaN</td>\n",
       "      <td>NaN</td>\n",
       "      <td>1.001204e+11</td>\n",
       "      <td>Address Matched</td>\n",
       "    </tr>\n",
       "    <tr>\n",
       "      <th>2</th>\n",
       "      <td>1102892409262017040613095870338213</td>\n",
       "      <td>44, Naunton Lane</td>\n",
       "      <td>NaN</td>\n",
       "      <td>NaN</td>\n",
       "      <td>GL53 7BH</td>\n",
       "      <td>1795060278</td>\n",
       "      <td>D</td>\n",
       "      <td>B</td>\n",
       "      <td>65</td>\n",
       "      <td>85</td>\n",
       "      <td>...</td>\n",
       "      <td>Cheltenham</td>\n",
       "      <td>Cheltenham</td>\n",
       "      <td>CHELTENHAM</td>\n",
       "      <td>England and Wales: 1900-1929</td>\n",
       "      <td>2017-04-06 13:09:58</td>\n",
       "      <td>owner-occupied</td>\n",
       "      <td>NaN</td>\n",
       "      <td>NaN</td>\n",
       "      <td>1.001204e+11</td>\n",
       "      <td>Address Matched</td>\n",
       "    </tr>\n",
       "    <tr>\n",
       "      <th>3</th>\n",
       "      <td>2383300702009033116544446217998</td>\n",
       "      <td>Flat 8, Hazelhurst</td>\n",
       "      <td>24, Eldorado Road</td>\n",
       "      <td>NaN</td>\n",
       "      <td>GL50 2PT</td>\n",
       "      <td>9774302468</td>\n",
       "      <td>E</td>\n",
       "      <td>D</td>\n",
       "      <td>46</td>\n",
       "      <td>57</td>\n",
       "      <td>...</td>\n",
       "      <td>Cheltenham</td>\n",
       "      <td>Cheltenham</td>\n",
       "      <td>CHELTENHAM</td>\n",
       "      <td>England and Wales: 1900-1929</td>\n",
       "      <td>2009-03-31 16:54:44</td>\n",
       "      <td>rental (private)</td>\n",
       "      <td>NaN</td>\n",
       "      <td>NaN</td>\n",
       "      <td>1.000048e+10</td>\n",
       "      <td>Address Matched</td>\n",
       "    </tr>\n",
       "    <tr>\n",
       "      <th>4</th>\n",
       "      <td>1656454289042018082020372657982008</td>\n",
       "      <td>6, Charles Street</td>\n",
       "      <td>NaN</td>\n",
       "      <td>NaN</td>\n",
       "      <td>GL51 9HH</td>\n",
       "      <td>4037189578</td>\n",
       "      <td>C</td>\n",
       "      <td>B</td>\n",
       "      <td>71</td>\n",
       "      <td>87</td>\n",
       "      <td>...</td>\n",
       "      <td>Cheltenham</td>\n",
       "      <td>Cheltenham</td>\n",
       "      <td>CHELTENHAM</td>\n",
       "      <td>England and Wales: before 1900</td>\n",
       "      <td>2018-08-20 20:37:26</td>\n",
       "      <td>owner-occupied</td>\n",
       "      <td>NaN</td>\n",
       "      <td>NaN</td>\n",
       "      <td>1.001204e+11</td>\n",
       "      <td>Address Matched</td>\n",
       "    </tr>\n",
       "  </tbody>\n",
       "</table>\n",
       "<p>5 rows × 92 columns</p>\n",
       "</div>"
      ],
      "text/plain": [
       "                              LMK_KEY            ADDRESS1           ADDRESS2  \\\n",
       "0   208945009062019011009444285518421   15, Elmfield Road                NaN   \n",
       "1  1296022739962015031912051214438915      15, Lime Close          Prestbury   \n",
       "2  1102892409262017040613095870338213    44, Naunton Lane                NaN   \n",
       "3     2383300702009033116544446217998  Flat 8, Hazelhurst  24, Eldorado Road   \n",
       "4  1656454289042018082020372657982008   6, Charles Street                NaN   \n",
       "\n",
       "  ADDRESS3  POSTCODE  BUILDING_REFERENCE_NUMBER CURRENT_ENERGY_RATING  \\\n",
       "0      NaN  GL51 9JJ                 2864085568                     C   \n",
       "1      NaN  GL52 3EF                 1185324378                     E   \n",
       "2      NaN  GL53 7BH                 1795060278                     D   \n",
       "3      NaN  GL50 2PT                 9774302468                     E   \n",
       "4      NaN  GL51 9HH                 4037189578                     C   \n",
       "\n",
       "  POTENTIAL_ENERGY_RATING  CURRENT_ENERGY_EFFICIENCY  \\\n",
       "0                       B                         71   \n",
       "1                       C                         53   \n",
       "2                       B                         65   \n",
       "3                       D                         46   \n",
       "4                       B                         71   \n",
       "\n",
       "   POTENTIAL_ENERGY_EFFICIENCY  ... LOCAL_AUTHORITY_LABEL CONSTITUENCY_LABEL  \\\n",
       "0                           84  ...            Cheltenham         Cheltenham   \n",
       "1                           79  ...            Cheltenham         Tewkesbury   \n",
       "2                           85  ...            Cheltenham         Cheltenham   \n",
       "3                           57  ...            Cheltenham         Cheltenham   \n",
       "4                           87  ...            Cheltenham         Cheltenham   \n",
       "\n",
       "     POSTTOWN           CONSTRUCTION_AGE_BAND   LODGEMENT_DATETIME  \\\n",
       "0  CHELTENHAM    England and Wales: 1950-1966  2019-01-10 09:44:42   \n",
       "1  CHELTENHAM    England and Wales: 1967-1975  2015-03-19 12:05:12   \n",
       "2  CHELTENHAM    England and Wales: 1900-1929  2017-04-06 13:09:58   \n",
       "3  CHELTENHAM    England and Wales: 1900-1929  2009-03-31 16:54:44   \n",
       "4  CHELTENHAM  England and Wales: before 1900  2018-08-20 20:37:26   \n",
       "\n",
       "             TENURE FIXED_LIGHTING_OUTLETS_COUNT LOW_ENERGY_FIXED_LIGHT_COUNT  \\\n",
       "0  rental (private)                          NaN                          NaN   \n",
       "1    owner-occupied                          NaN                          NaN   \n",
       "2    owner-occupied                          NaN                          NaN   \n",
       "3  rental (private)                          NaN                          NaN   \n",
       "4    owner-occupied                          NaN                          NaN   \n",
       "\n",
       "           UPRN      UPRN_SOURCE  \n",
       "0  1.001204e+11  Address Matched  \n",
       "1  1.001204e+11  Address Matched  \n",
       "2  1.001204e+11  Address Matched  \n",
       "3  1.000048e+10  Address Matched  \n",
       "4  1.001204e+11  Address Matched  \n",
       "\n",
       "[5 rows x 92 columns]"
      ]
     },
     "metadata": {},
     "output_type": "display_data"
    }
   ],
   "source": [
    "# hide_input\n",
    "originalUsage = to_bytes(epcSample.memory_usage(deep=True).sum())\n",
    "print(originalUsage)\n",
    "epcSample.head()"
   ]
  },
  {
   "cell_type": "markdown",
   "metadata": {},
   "source": [
    "#### Filtering columns and dropping empty entries\n",
    "As of now there are far too many unneccessary columns, I will only take the columns I think will potentially be useful as features for predictive models. Additionally, I will be replacing placeholder values such as `\"NO DATA!\"` to `NaN` values and will subsequently drop them."
   ]
  },
  {
   "cell_type": "code",
   "execution_count": null,
   "metadata": {
    "ExecuteTime": {
     "end_time": "2022-02-10T23:05:16.426942Z",
     "start_time": "2022-02-10T23:05:16.413951Z"
    }
   },
   "outputs": [],
   "source": [
    "epcFilter = [\n",
    "    \"ADDRESS1\",  #*\n",
    "    \"ADDRESS2\",  #*\n",
    "    \"POSTCODE\",  #*\n",
    "    \"PROPERTY_TYPE\",\n",
    "    \"BUILT_FORM\",\n",
    "    \"TOTAL_FLOOR_AREA\",\n",
    "    \"NUMBER_HABITABLE_ROOMS\",\n",
    "    \"EXTENSION_COUNT\",\n",
    "    \"GLAZED_TYPE\",\n",
    "    \"CONSTRUCTION_AGE_BAND\",\n",
    "    \"TENURE\"\n",
    "]\n",
    "#* WILL LATER BE DROPPED\n",
    "epcSample = epcSample[epcFilter]"
   ]
  },
  {
   "cell_type": "code",
   "execution_count": null,
   "metadata": {
    "ExecuteTime": {
     "end_time": "2022-02-10T23:05:16.631021Z",
     "start_time": "2022-02-10T23:05:16.428910Z"
    }
   },
   "outputs": [
    {
     "name": "stdout",
     "output_type": "stream",
     "text": [
      "ADDRESS2                  25366\n",
      "BUILT_FORM                 1141\n",
      "NUMBER_HABITABLE_ROOMS     4471\n",
      "EXTENSION_COUNT            4471\n",
      "GLAZED_TYPE                9938\n",
      "CONSTRUCTION_AGE_BAND      4460\n",
      "TENURE                     1432\n",
      "dtype: int64\n"
     ]
    }
   ],
   "source": [
    "nanValues = [\n",
    "    \"NULL\",\n",
    "    \"INVALID\",\n",
    "    \"INVALID!\",\n",
    "    \"NODATA!\",\n",
    "    \"NO DATA!\",\n",
    "    \"N/A\",\n",
    "    \"Not applicable\",\n",
    "    \"Not recorded\",\n",
    "    \"not defined\",\n",
    "    \"Blank\",\n",
    "]\n",
    "epcSample[epcSample.isin(nanValues)] = np.nan\n",
    "print(epcSample.isna().sum()[lambda x: x > 0])\n",
    "epcSample = (epcSample\n",
    "    .dropna(subset=list(filter(lambda x: x != \"ADDRESS2\", epcFilter)))\n",
    "    .reset_index(drop=True))"
   ]
  },
  {
   "cell_type": "markdown",
   "metadata": {},
   "source": [
    "#### Converting data types"
   ]
  },
  {
   "cell_type": "code",
   "execution_count": null,
   "metadata": {
    "ExecuteTime": {
     "end_time": "2022-02-10T23:05:16.678161Z",
     "start_time": "2022-02-10T23:05:16.632993Z"
    }
   },
   "outputs": [],
   "source": [
    "float_col = [\"TOTAL_FLOOR_AREA\", \"NUMBER_HABITABLE_ROOMS\", \"EXTENSION_COUNT\"]\n",
    "cat_col = [\n",
    "    \"PROPERTY_TYPE\", \"BUILT_FORM\", \"GLAZED_TYPE\", \"CONSTRUCTION_AGE_BAND\",\n",
    "    \"TENURE\"\n",
    "]\n",
    "epcSample[float_col] = epcSample[float_col].astype(\"float\")\n",
    "epcSample[cat_col] = epcSample[cat_col].astype(\"category\")\n",
    "epcDtype = epcSample.dtypes.to_dict()"
   ]
  },
  {
   "cell_type": "markdown",
   "metadata": {},
   "source": [
    "#### Formatting addresses\n",
    "\"`ADDRESS1 ADDRESS2 POSTCODE`\" all in uppercase, commas removed from text."
   ]
  },
  {
   "cell_type": "code",
   "execution_count": null,
   "metadata": {
    "ExecuteTime": {
     "end_time": "2022-02-10T23:05:16.709441Z",
     "start_time": "2022-02-10T23:05:16.679161Z"
    }
   },
   "outputs": [],
   "source": [
    "def epcFormatAddr(x):\n",
    "    return [\n",
    "        ' '.join(z.strip().replace(\",\", \"\").upper() for z in y\n",
    "                 if not pd.isna(z))\n",
    "        for y in x[[\"ADDRESS1\", \"ADDRESS2\", \"POSTCODE\"]].values\n",
    "    ]  # List comprehension for performance"
   ]
  },
  {
   "cell_type": "code",
   "execution_count": null,
   "metadata": {
    "ExecuteTime": {
     "end_time": "2022-02-10T23:05:16.921451Z",
     "start_time": "2022-02-10T23:05:16.710375Z"
    }
   },
   "outputs": [
    {
     "data": {
      "text/plain": [
       "0           15 ELMFIELD ROAD GL51 9JJ\n",
       "1    15 LIME CLOSE PRESTBURY GL52 3EF\n",
       "2            44 NAUNTON LANE GL53 7BH\n",
       "3           6 CHARLES STREET GL51 9HH\n",
       "4          25 BELWORTH COURT GL51 6HQ\n",
       "Name: ADDRESS, dtype: object"
      ]
     },
     "metadata": {},
     "output_type": "display_data"
    }
   ],
   "source": [
    "epcSample[\"ADDRESS\"] = epcFormatAddr(epcSample)\n",
    "epcSample = epcSample.drop(columns=[\"ADDRESS1\", \"ADDRESS2\", \"POSTCODE\"])\n",
    "epcSample.ADDRESS[:5]"
   ]
  },
  {
   "cell_type": "markdown",
   "metadata": {},
   "source": [
    "Processed sample set:"
   ]
  },
  {
   "cell_type": "code",
   "execution_count": null,
   "metadata": {
    "ExecuteTime": {
     "end_time": "2022-02-10T23:05:16.969477Z",
     "start_time": "2022-02-10T23:05:16.923448Z"
    },
    "tags": [
     "remove_input"
    ]
   },
   "outputs": [
    {
     "name": "stdout",
     "output_type": "stream",
     "text": [
      "207.64MB => 4.50MB\n"
     ]
    },
    {
     "data": {
      "text/html": [
       "<div>\n",
       "<style scoped>\n",
       "    .dataframe tbody tr th:only-of-type {\n",
       "        vertical-align: middle;\n",
       "    }\n",
       "\n",
       "    .dataframe tbody tr th {\n",
       "        vertical-align: top;\n",
       "    }\n",
       "\n",
       "    .dataframe thead th {\n",
       "        text-align: right;\n",
       "    }\n",
       "</style>\n",
       "<table border=\"1\" class=\"dataframe\">\n",
       "  <thead>\n",
       "    <tr style=\"text-align: right;\">\n",
       "      <th></th>\n",
       "      <th>dtype</th>\n",
       "      <th>memory_usage</th>\n",
       "      <th>null</th>\n",
       "      <th>unique</th>\n",
       "    </tr>\n",
       "  </thead>\n",
       "  <tbody>\n",
       "    <tr>\n",
       "      <th>PROPERTY_TYPE</th>\n",
       "      <td>category</td>\n",
       "      <td>38719</td>\n",
       "      <td>0.0</td>\n",
       "      <td>5.0</td>\n",
       "    </tr>\n",
       "    <tr>\n",
       "      <th>BUILT_FORM</th>\n",
       "      <td>category</td>\n",
       "      <td>38823</td>\n",
       "      <td>0.0</td>\n",
       "      <td>6.0</td>\n",
       "    </tr>\n",
       "    <tr>\n",
       "      <th>TOTAL_FLOOR_AREA</th>\n",
       "      <td>float64</td>\n",
       "      <td>305808</td>\n",
       "      <td>0.0</td>\n",
       "      <td>7559.0</td>\n",
       "    </tr>\n",
       "    <tr>\n",
       "      <th>NUMBER_HABITABLE_ROOMS</th>\n",
       "      <td>float64</td>\n",
       "      <td>305808</td>\n",
       "      <td>0.0</td>\n",
       "      <td>21.0</td>\n",
       "    </tr>\n",
       "    <tr>\n",
       "      <th>EXTENSION_COUNT</th>\n",
       "      <td>float64</td>\n",
       "      <td>305808</td>\n",
       "      <td>0.0</td>\n",
       "      <td>5.0</td>\n",
       "    </tr>\n",
       "    <tr>\n",
       "      <th>GLAZED_TYPE</th>\n",
       "      <td>category</td>\n",
       "      <td>39180</td>\n",
       "      <td>0.0</td>\n",
       "      <td>8.0</td>\n",
       "    </tr>\n",
       "    <tr>\n",
       "      <th>CONSTRUCTION_AGE_BAND</th>\n",
       "      <td>category</td>\n",
       "      <td>39895</td>\n",
       "      <td>0.0</td>\n",
       "      <td>13.0</td>\n",
       "    </tr>\n",
       "    <tr>\n",
       "      <th>TENURE</th>\n",
       "      <td>category</td>\n",
       "      <td>39179</td>\n",
       "      <td>0.0</td>\n",
       "      <td>8.0</td>\n",
       "    </tr>\n",
       "    <tr>\n",
       "      <th>ADDRESS</th>\n",
       "      <td>object</td>\n",
       "      <td>3390932</td>\n",
       "      <td>0.0</td>\n",
       "      <td>30564.0</td>\n",
       "    </tr>\n",
       "    <tr>\n",
       "      <th>Index</th>\n",
       "      <td>NaN</td>\n",
       "      <td>128</td>\n",
       "      <td>NaN</td>\n",
       "      <td>NaN</td>\n",
       "    </tr>\n",
       "  </tbody>\n",
       "</table>\n",
       "</div>"
      ],
      "text/plain": [
       "                           dtype  memory_usage  null   unique\n",
       "PROPERTY_TYPE           category         38719   0.0      5.0\n",
       "BUILT_FORM              category         38823   0.0      6.0\n",
       "TOTAL_FLOOR_AREA         float64        305808   0.0   7559.0\n",
       "NUMBER_HABITABLE_ROOMS   float64        305808   0.0     21.0\n",
       "EXTENSION_COUNT          float64        305808   0.0      5.0\n",
       "GLAZED_TYPE             category         39180   0.0      8.0\n",
       "CONSTRUCTION_AGE_BAND   category         39895   0.0     13.0\n",
       "TENURE                  category         39179   0.0      8.0\n",
       "ADDRESS                   object       3390932   0.0  30564.0\n",
       "Index                        NaN           128   NaN      NaN"
      ]
     },
     "metadata": {},
     "output_type": "display_data"
    }
   ],
   "source": [
    "# hide_input\n",
    "_info = info(epcSample)\n",
    "print(originalUsage, \"=>\", to_bytes(_info[\"memory_usage\"].sum()))\n",
    "_info"
   ]
  },
  {
   "cell_type": "markdown",
   "metadata": {},
   "source": [
    "### Entire dataset\n",
    "I will be process and export the entire dataset using Dask with a similar pipeline to that of the Price-paid data."
   ]
  },
  {
   "cell_type": "markdown",
   "metadata": {},
   "source": [
    "#### Pipeline\n",
    "1. Import all files as a *glob* using Dask.\n",
    "2. Drop rows with empty entries (ignoring `ADDRESS2` column)\n",
    "3. Convert data types\n",
    "4. Format addresses with `epcFormatAddr` function\n",
    "7. Drop duplicate addresses and set as index\n",
    "8. Drop unnecessary columns"
   ]
  },
  {
   "cell_type": "code",
   "execution_count": null,
   "metadata": {
    "ExecuteTime": {
     "end_time": "2022-02-10T23:05:17.015758Z",
     "start_time": "2022-02-10T23:05:16.970446Z"
    }
   },
   "outputs": [],
   "source": [
    "epcFilter = [\n",
    "    \"ADDRESS1\", \"ADDRESS2\", \"POSTCODE\", \"PROPERTY_TYPE\", \"BUILT_FORM\",\n",
    "    \"TOTAL_FLOOR_AREA\", \"NUMBER_HABITABLE_ROOMS\", \"EXTENSION_COUNT\",\n",
    "    \"GLAZED_TYPE\", \"CONSTRUCTION_AGE_BAND\", \"TENURE\"\n",
    "]\n",
    "nanValues = [\n",
    "    \"NULL\",\n",
    "    \"INVALID\",\n",
    "    \"INVALID!\",\n",
    "    \"NODATA!\",\n",
    "    \"NO DATA!\",\n",
    "    \"N/A\",\n",
    "    \"Not applicable\",\n",
    "    \"Not recorded\",\n",
    "    \"not defined\",\n",
    "    \"Blank\",\n",
    "]\n",
    "epcDtype = {\n",
    "    'ADDRESS1': object,\n",
    "    'ADDRESS2': object,\n",
    "    'POSTCODE': object,\n",
    "    'PROPERTY_TYPE': pd.CategoricalDtype(),\n",
    "    'BUILT_FORM': pd.CategoricalDtype(),\n",
    "    'TOTAL_FLOOR_AREA': np.float64,\n",
    "    'NUMBER_HABITABLE_ROOMS': np.float64,\n",
    "    'EXTENSION_COUNT': np.float64,\n",
    "    'GLAZED_TYPE': pd.CategoricalDtype(),\n",
    "    'CONSTRUCTION_AGE_BAND': pd.CategoricalDtype(),\n",
    "    'TENURE': pd.CategoricalDtype()\n",
    "}\n",
    "def epcFormatAddr(x):\n",
    "    return [\n",
    "        ' '.join(z.strip().replace(\",\", \"\").upper() for z in y\n",
    "                 if not pd.isna(z))\n",
    "        for y in x[[\"ADDRESS1\", \"ADDRESS2\", \"POSTCODE\"]].values\n",
    "    ]  # List comprehension for performance"
   ]
  },
  {
   "cell_type": "code",
   "execution_count": null,
   "metadata": {
    "ExecuteTime": {
     "end_time": "2022-02-10T23:05:17.361241Z",
     "start_time": "2022-02-10T23:05:17.016754Z"
    }
   },
   "outputs": [],
   "source": [
    "epcPipeline = (dd\n",
    "    .read_csv(epcPath, usecols=epcFilter, na_values=nanValues, dtype=epcDtype)\n",
    "    .dropna(subset=list(filter(lambda x: x != \"ADDRESS2\", epcFilter)), how=\"any\")\n",
    "    .map_partitions(lambda x: x.assign(ADDRESS=epcFormatAddr)).drop_duplicates(subset=\"ADDRESS\",keep=\"last\")\n",
    "    .map_partitions(lambda x: x.set_index(\"ADDRESS\"))\n",
    "    .drop(columns=[\"ADDRESS1\", \"ADDRESS2\", \"POSTCODE\"])\n",
    ")"
   ]
  },
  {
   "cell_type": "code",
   "execution_count": null,
   "metadata": {
    "ExecuteTime": {
     "end_time": "2022-02-10T23:05:17.391456Z",
     "start_time": "2022-02-10T23:05:17.367228Z"
    }
   },
   "outputs": [],
   "source": [
    "if not os.path.exists(EPC_PATH) and not os.path.exists(DATASET_PATH):\n",
    "    with ProgressBar():\n",
    "        epcPipeline.to_parquet(EPC_PATH, compression=\"snappy\")\n",
    "epc = dd.read_parquet(EPC_PATH)"
   ]
  },
  {
   "cell_type": "code",
   "execution_count": null,
   "metadata": {
    "ExecuteTime": {
     "end_time": "2022-02-10T23:05:42.613616Z",
     "start_time": "2022-02-10T23:05:17.392455Z"
    },
    "tags": [
     "remove_input"
    ]
   },
   "outputs": [
    {
     "name": "stdout",
     "output_type": "stream",
     "text": [
      "1.64GB\n",
      "14,148,102 rows\n"
     ]
    },
    {
     "data": {
      "text/html": [
       "<div>\n",
       "<style scoped>\n",
       "    .dataframe tbody tr th:only-of-type {\n",
       "        vertical-align: middle;\n",
       "    }\n",
       "\n",
       "    .dataframe tbody tr th {\n",
       "        vertical-align: top;\n",
       "    }\n",
       "\n",
       "    .dataframe thead th {\n",
       "        text-align: right;\n",
       "    }\n",
       "</style>\n",
       "<table border=\"1\" class=\"dataframe\">\n",
       "  <thead>\n",
       "    <tr style=\"text-align: right;\">\n",
       "      <th></th>\n",
       "      <th>PROPERTY_TYPE</th>\n",
       "      <th>BUILT_FORM</th>\n",
       "      <th>TOTAL_FLOOR_AREA</th>\n",
       "      <th>GLAZED_TYPE</th>\n",
       "      <th>EXTENSION_COUNT</th>\n",
       "      <th>NUMBER_HABITABLE_ROOMS</th>\n",
       "      <th>CONSTRUCTION_AGE_BAND</th>\n",
       "      <th>TENURE</th>\n",
       "    </tr>\n",
       "    <tr>\n",
       "      <th>ADDRESS</th>\n",
       "      <th></th>\n",
       "      <th></th>\n",
       "      <th></th>\n",
       "      <th></th>\n",
       "      <th></th>\n",
       "      <th></th>\n",
       "      <th></th>\n",
       "      <th></th>\n",
       "    </tr>\n",
       "  </thead>\n",
       "  <tbody>\n",
       "    <tr>\n",
       "      <th>54 CAISTOR DRIVE TS25 2QG</th>\n",
       "      <td>Bungalow</td>\n",
       "      <td>Semi-Detached</td>\n",
       "      <td>59.0</td>\n",
       "      <td>double glazing, unknown install date</td>\n",
       "      <td>0.0</td>\n",
       "      <td>4.0</td>\n",
       "      <td>England and Wales: 1967-1975</td>\n",
       "      <td>rental (private)</td>\n",
       "    </tr>\n",
       "    <tr>\n",
       "      <th>18 TRENTBROOKE AVENUE TS25 5JN</th>\n",
       "      <td>Bungalow</td>\n",
       "      <td>Semi-Detached</td>\n",
       "      <td>70.8</td>\n",
       "      <td>double glazing, unknown install date</td>\n",
       "      <td>0.0</td>\n",
       "      <td>4.0</td>\n",
       "      <td>England and Wales: 1950-1966</td>\n",
       "      <td>owner-occupied</td>\n",
       "    </tr>\n",
       "    <tr>\n",
       "      <th>3 HARLECH WALK TS26 0TN</th>\n",
       "      <td>House</td>\n",
       "      <td>Mid-Terrace</td>\n",
       "      <td>86.0</td>\n",
       "      <td>double glazing installed before 2002</td>\n",
       "      <td>1.0</td>\n",
       "      <td>5.0</td>\n",
       "      <td>England and Wales: 1950-1966</td>\n",
       "      <td>owner-occupied</td>\n",
       "    </tr>\n",
       "    <tr>\n",
       "      <th>31 LAUREL GARDENS TS25 4NZ</th>\n",
       "      <td>Flat</td>\n",
       "      <td>Detached</td>\n",
       "      <td>52.0</td>\n",
       "      <td>double glazing installed during or after 2002</td>\n",
       "      <td>0.0</td>\n",
       "      <td>3.0</td>\n",
       "      <td>England and Wales: 2007 onwards</td>\n",
       "      <td>rental (social)</td>\n",
       "    </tr>\n",
       "    <tr>\n",
       "      <th>16 HEADINGLEY COURT SEATON CAREW TS25 2PD</th>\n",
       "      <td>House</td>\n",
       "      <td>Detached</td>\n",
       "      <td>121.0</td>\n",
       "      <td>double glazing installed before 2002</td>\n",
       "      <td>1.0</td>\n",
       "      <td>6.0</td>\n",
       "      <td>England and Wales: 1991-1995</td>\n",
       "      <td>owner-occupied</td>\n",
       "    </tr>\n",
       "  </tbody>\n",
       "</table>\n",
       "</div>"
      ],
      "text/plain": [
       "                                          PROPERTY_TYPE     BUILT_FORM  \\\n",
       "ADDRESS                                                                  \n",
       "54 CAISTOR DRIVE TS25 2QG                      Bungalow  Semi-Detached   \n",
       "18 TRENTBROOKE AVENUE TS25 5JN                 Bungalow  Semi-Detached   \n",
       "3 HARLECH WALK TS26 0TN                           House    Mid-Terrace   \n",
       "31 LAUREL GARDENS TS25 4NZ                         Flat       Detached   \n",
       "16 HEADINGLEY COURT SEATON CAREW TS25 2PD         House       Detached   \n",
       "\n",
       "                                           TOTAL_FLOOR_AREA  \\\n",
       "ADDRESS                                                       \n",
       "54 CAISTOR DRIVE TS25 2QG                              59.0   \n",
       "18 TRENTBROOKE AVENUE TS25 5JN                         70.8   \n",
       "3 HARLECH WALK TS26 0TN                                86.0   \n",
       "31 LAUREL GARDENS TS25 4NZ                             52.0   \n",
       "16 HEADINGLEY COURT SEATON CAREW TS25 2PD             121.0   \n",
       "\n",
       "                                                                             GLAZED_TYPE  \\\n",
       "ADDRESS                                                                                    \n",
       "54 CAISTOR DRIVE TS25 2QG                           double glazing, unknown install date   \n",
       "18 TRENTBROOKE AVENUE TS25 5JN                      double glazing, unknown install date   \n",
       "3 HARLECH WALK TS26 0TN                             double glazing installed before 2002   \n",
       "31 LAUREL GARDENS TS25 4NZ                 double glazing installed during or after 2002   \n",
       "16 HEADINGLEY COURT SEATON CAREW TS25 2PD           double glazing installed before 2002   \n",
       "\n",
       "                                           EXTENSION_COUNT  \\\n",
       "ADDRESS                                                      \n",
       "54 CAISTOR DRIVE TS25 2QG                              0.0   \n",
       "18 TRENTBROOKE AVENUE TS25 5JN                         0.0   \n",
       "3 HARLECH WALK TS26 0TN                                1.0   \n",
       "31 LAUREL GARDENS TS25 4NZ                             0.0   \n",
       "16 HEADINGLEY COURT SEATON CAREW TS25 2PD              1.0   \n",
       "\n",
       "                                           NUMBER_HABITABLE_ROOMS  \\\n",
       "ADDRESS                                                             \n",
       "54 CAISTOR DRIVE TS25 2QG                                     4.0   \n",
       "18 TRENTBROOKE AVENUE TS25 5JN                                4.0   \n",
       "3 HARLECH WALK TS26 0TN                                       5.0   \n",
       "31 LAUREL GARDENS TS25 4NZ                                    3.0   \n",
       "16 HEADINGLEY COURT SEATON CAREW TS25 2PD                     6.0   \n",
       "\n",
       "                                                     CONSTRUCTION_AGE_BAND  \\\n",
       "ADDRESS                                                                      \n",
       "54 CAISTOR DRIVE TS25 2QG                     England and Wales: 1967-1975   \n",
       "18 TRENTBROOKE AVENUE TS25 5JN                England and Wales: 1950-1966   \n",
       "3 HARLECH WALK TS26 0TN                       England and Wales: 1950-1966   \n",
       "31 LAUREL GARDENS TS25 4NZ                 England and Wales: 2007 onwards   \n",
       "16 HEADINGLEY COURT SEATON CAREW TS25 2PD     England and Wales: 1991-1995   \n",
       "\n",
       "                                                     TENURE  \n",
       "ADDRESS                                                      \n",
       "54 CAISTOR DRIVE TS25 2QG                  rental (private)  \n",
       "18 TRENTBROOKE AVENUE TS25 5JN               owner-occupied  \n",
       "3 HARLECH WALK TS26 0TN                      owner-occupied  \n",
       "31 LAUREL GARDENS TS25 4NZ                  rental (social)  \n",
       "16 HEADINGLEY COURT SEATON CAREW TS25 2PD    owner-occupied  "
      ]
     },
     "metadata": {},
     "output_type": "display_data"
    }
   ],
   "source": [
    "# hide_input\n",
    "print(to_bytes(epc.memory_usage(deep=True).sum().compute()))\n",
    "print(f\"{epc.shape[0].compute():,} rows\")\n",
    "epc.head()"
   ]
  },
  {
   "cell_type": "markdown",
   "metadata": {},
   "source": [
    "## Merging datasets"
   ]
  },
  {
   "cell_type": "code",
   "execution_count": null,
   "metadata": {
    "ExecuteTime": {
     "end_time": "2022-02-10T23:05:42.645509Z",
     "start_time": "2022-02-10T23:05:42.615591Z"
    }
   },
   "outputs": [],
   "source": [
    "merge = (dd\n",
    "    .merge(ppd, epc, how=\"inner\", left_index=True, right_index=True) # intersection of price-paid and certificate data\n",
    "    .reset_index(drop=True)  # dropping address index as it is no longer necessary\n",
    "    .map_partitions(lambda x: x.set_index(\"DATE_OF_TRANSFER\").sort_index()) # set date to new index\n",
    ")"
   ]
  },
  {
   "cell_type": "code",
   "execution_count": null,
   "metadata": {
    "ExecuteTime": {
     "end_time": "2022-02-10T23:05:46.700719Z",
     "start_time": "2022-02-10T23:05:42.647504Z"
    }
   },
   "outputs": [],
   "source": [
    "if not os.path.exists(MERGED_PATH):\n",
    "    with ProgressBar():\n",
    "        merge.to_parquet(MERGED_PATH, schema=\"infer\", compression=\"snappy\")\n",
    "df = dd.read_parquet(MERGED_PATH).compute()  # Computing into memory since it will use ~600mb"
   ]
  },
  {
   "cell_type": "code",
   "execution_count": null,
   "metadata": {
    "ExecuteTime": {
     "end_time": "2022-02-10T23:05:47.681312Z",
     "start_time": "2022-02-10T23:05:46.700719Z"
    },
    "tags": [
     "remove_input"
    ]
   },
   "outputs": [
    {
     "name": "stdout",
     "output_type": "stream",
     "text": [
      "614.61MB\n",
      "5,566,962 rows\n"
     ]
    },
    {
     "data": {
      "text/html": [
       "<div>\n",
       "<style scoped>\n",
       "    .dataframe tbody tr th:only-of-type {\n",
       "        vertical-align: middle;\n",
       "    }\n",
       "\n",
       "    .dataframe tbody tr th {\n",
       "        vertical-align: top;\n",
       "    }\n",
       "\n",
       "    .dataframe thead th {\n",
       "        text-align: right;\n",
       "    }\n",
       "</style>\n",
       "<table border=\"1\" class=\"dataframe\">\n",
       "  <thead>\n",
       "    <tr style=\"text-align: right;\">\n",
       "      <th></th>\n",
       "      <th>PRICE</th>\n",
       "      <th>POSTCODE</th>\n",
       "      <th>OLD_NEW</th>\n",
       "      <th>PROPERTY_TYPE</th>\n",
       "      <th>BUILT_FORM</th>\n",
       "      <th>TOTAL_FLOOR_AREA</th>\n",
       "      <th>GLAZED_TYPE</th>\n",
       "      <th>EXTENSION_COUNT</th>\n",
       "      <th>NUMBER_HABITABLE_ROOMS</th>\n",
       "      <th>CONSTRUCTION_AGE_BAND</th>\n",
       "      <th>TENURE</th>\n",
       "    </tr>\n",
       "    <tr>\n",
       "      <th>DATE_OF_TRANSFER</th>\n",
       "      <th></th>\n",
       "      <th></th>\n",
       "      <th></th>\n",
       "      <th></th>\n",
       "      <th></th>\n",
       "      <th></th>\n",
       "      <th></th>\n",
       "      <th></th>\n",
       "      <th></th>\n",
       "      <th></th>\n",
       "      <th></th>\n",
       "    </tr>\n",
       "  </thead>\n",
       "  <tbody>\n",
       "    <tr>\n",
       "      <th>1995-01-01</th>\n",
       "      <td>16000.0</td>\n",
       "      <td>HX1 4NG</td>\n",
       "      <td>N</td>\n",
       "      <td>House</td>\n",
       "      <td>Enclosed Mid-Terrace</td>\n",
       "      <td>99.00</td>\n",
       "      <td>double glazing, unknown install date</td>\n",
       "      <td>0.0</td>\n",
       "      <td>4.0</td>\n",
       "      <td>England and Wales: before 1900</td>\n",
       "      <td>owner-occupied</td>\n",
       "    </tr>\n",
       "    <tr>\n",
       "      <th>1995-01-02</th>\n",
       "      <td>35000.0</td>\n",
       "      <td>NN1 4LL</td>\n",
       "      <td>N</td>\n",
       "      <td>House</td>\n",
       "      <td>Mid-Terrace</td>\n",
       "      <td>85.00</td>\n",
       "      <td>double glazing installed before 2002</td>\n",
       "      <td>1.0</td>\n",
       "      <td>4.0</td>\n",
       "      <td>England and Wales: 1900-1929</td>\n",
       "      <td>owner-occupied</td>\n",
       "    </tr>\n",
       "    <tr>\n",
       "      <th>1995-01-03</th>\n",
       "      <td>15000.0</td>\n",
       "      <td>NE34 8TF</td>\n",
       "      <td>N</td>\n",
       "      <td>House</td>\n",
       "      <td>Semi-Detached</td>\n",
       "      <td>74.00</td>\n",
       "      <td>double glazing installed before 2002</td>\n",
       "      <td>0.0</td>\n",
       "      <td>4.0</td>\n",
       "      <td>England and Wales: 1967-1975</td>\n",
       "      <td>rental (private)</td>\n",
       "    </tr>\n",
       "    <tr>\n",
       "      <th>1995-01-03</th>\n",
       "      <td>48000.0</td>\n",
       "      <td>HR8 2DB</td>\n",
       "      <td>N</td>\n",
       "      <td>Bungalow</td>\n",
       "      <td>Detached</td>\n",
       "      <td>78.00</td>\n",
       "      <td>double glazing installed before 2002</td>\n",
       "      <td>1.0</td>\n",
       "      <td>3.0</td>\n",
       "      <td>England and Wales: 1950-1966</td>\n",
       "      <td>owner-occupied</td>\n",
       "    </tr>\n",
       "    <tr>\n",
       "      <th>1995-01-03</th>\n",
       "      <td>82000.0</td>\n",
       "      <td>TR13 8BP</td>\n",
       "      <td>N</td>\n",
       "      <td>Bungalow</td>\n",
       "      <td>Detached</td>\n",
       "      <td>118.88</td>\n",
       "      <td>double glazing installed during or after 2002</td>\n",
       "      <td>0.0</td>\n",
       "      <td>4.0</td>\n",
       "      <td>England and Wales: 1967-1975</td>\n",
       "      <td>rental (private)</td>\n",
       "    </tr>\n",
       "  </tbody>\n",
       "</table>\n",
       "</div>"
      ],
      "text/plain": [
       "                    PRICE  POSTCODE OLD_NEW PROPERTY_TYPE  \\\n",
       "DATE_OF_TRANSFER                                            \n",
       "1995-01-01        16000.0   HX1 4NG       N         House   \n",
       "1995-01-02        35000.0   NN1 4LL       N         House   \n",
       "1995-01-03        15000.0  NE34 8TF       N         House   \n",
       "1995-01-03        48000.0   HR8 2DB       N      Bungalow   \n",
       "1995-01-03        82000.0  TR13 8BP       N      Bungalow   \n",
       "\n",
       "                            BUILT_FORM  TOTAL_FLOOR_AREA  \\\n",
       "DATE_OF_TRANSFER                                           \n",
       "1995-01-01        Enclosed Mid-Terrace             99.00   \n",
       "1995-01-02                 Mid-Terrace             85.00   \n",
       "1995-01-03               Semi-Detached             74.00   \n",
       "1995-01-03                    Detached             78.00   \n",
       "1995-01-03                    Detached            118.88   \n",
       "\n",
       "                                                    GLAZED_TYPE  \\\n",
       "DATE_OF_TRANSFER                                                  \n",
       "1995-01-01                 double glazing, unknown install date   \n",
       "1995-01-02                 double glazing installed before 2002   \n",
       "1995-01-03                 double glazing installed before 2002   \n",
       "1995-01-03                 double glazing installed before 2002   \n",
       "1995-01-03        double glazing installed during or after 2002   \n",
       "\n",
       "                  EXTENSION_COUNT  NUMBER_HABITABLE_ROOMS  \\\n",
       "DATE_OF_TRANSFER                                            \n",
       "1995-01-01                    0.0                     4.0   \n",
       "1995-01-02                    1.0                     4.0   \n",
       "1995-01-03                    0.0                     4.0   \n",
       "1995-01-03                    1.0                     3.0   \n",
       "1995-01-03                    0.0                     4.0   \n",
       "\n",
       "                           CONSTRUCTION_AGE_BAND            TENURE  \n",
       "DATE_OF_TRANSFER                                                    \n",
       "1995-01-01        England and Wales: before 1900    owner-occupied  \n",
       "1995-01-02          England and Wales: 1900-1929    owner-occupied  \n",
       "1995-01-03          England and Wales: 1967-1975  rental (private)  \n",
       "1995-01-03          England and Wales: 1950-1966    owner-occupied  \n",
       "1995-01-03          England and Wales: 1967-1975  rental (private)  "
      ]
     },
     "metadata": {},
     "output_type": "display_data"
    }
   ],
   "source": [
    "# hide_input\n",
    "print(to_bytes(df.memory_usage(deep=True).sum()))\n",
    "print(f\"{df.shape[0]:,} rows\")\n",
    "df.head()"
   ]
  },
  {
   "cell_type": "markdown",
   "metadata": {},
   "source": [
    "## Downloading additional data for feature engineering\n",
    "During my dataset analysis, I will require additional data to further transform my dataset. This includes:\n",
    "* Geographical data from the ***[National Statistics Postcode Lookup (February 2022)](https://geoportal.statistics.gov.uk/datasets/ons::national-statistics-postcode-lookup-february-2022/about)***, e.g longitude, latitude\n",
    "* HPI (House Price Index) data from ***[National Statistics UK House Price Index (January 2022)](https://www.gov.uk/government/publications/about-the-uk-house-price-index)***"
   ]
  },
  {
   "cell_type": "code",
   "execution_count": null,
   "metadata": {
    "ExecuteTime": {
     "end_time": "2022-02-10T23:04:20.381074Z",
     "start_time": "2022-02-10T23:04:20.302264Z"
    },
    "code_folding": []
   },
   "outputs": [],
   "source": [
    "# collapse\n",
    "from tqdm import tqdm\n",
    "\n",
    "class Downloader:\n",
    "    def __init__(\n",
    "        self,\n",
    "        _session,\n",
    "        pbar_enabled: bool = False,\n",
    "        pbar_kwargs={},\n",
    "    ):\n",
    "        self.session = _session\n",
    "        self.pbar_enabled = pbar_enabled\n",
    "        self.pbar_kwargs = pbar_kwargs\n",
    "\n",
    "    def dlFile(self, file, chunk_size=1024, **reqKwargs) -> None:\n",
    "        r = self.session.get(\n",
    "            **reqKwargs, stream=True)  # Sending get request to provided url\n",
    "        r.raise_for_status() # raise error if request failure\n",
    "        if self.pbar_enabled:\n",
    "            pbar = tqdm(desc=file,\n",
    "                        total=int(r.headers.get(\"content-length\")),\n",
    "                        unit=\"iB\",\n",
    "                        unit_scale=True,\n",
    "                        **self.pbar_kwargs)  # Initialising progress bar\n",
    "        with open(file, \"wb\") as f:\n",
    "            # Iterating chunks as they come from server\n",
    "            for chunk in r.iter_content(chunk_size=chunk_size):\n",
    "                f.write(chunk)  # Writing chunk to file\n",
    "                f.flush()  # Flushing input buffer\n",
    "                if self.pbar_enabled:\n",
    "                    pbar.update(len(chunk))  # Updating progress bar by size of chunk\n",
    "        if self.pbar_enabled: pbar.close()"
   ]
  },
  {
   "cell_type": "markdown",
   "metadata": {},
   "source": [
    "### Postcode Lookup"
   ]
  },
  {
   "cell_type": "code",
   "execution_count": null,
   "metadata": {
    "ExecuteTime": {
     "end_time": "2022-02-10T23:05:49.606474Z",
     "start_time": "2022-02-10T23:05:47.683309Z"
    }
   },
   "outputs": [],
   "source": [
    "if not os.path.exists(PCD_PATH):\n",
    "    url = \"https://www.arcgis.com/sharing/rest/content/items/1a0444ee3c43452ea16c530966ae8984/data\"\n",
    "    extractPath = PCD_PATH.removesuffix(\".csv\")\n",
    "    if not os.path.exists(extractPath):\n",
    "        zipPath = extractPath + \".zip\"\n",
    "        # downloading zip file from website\n",
    "        with Session() as sess:\n",
    "            Downloader(sess, pbar_enabled=True).dlFile(zipPath, url=url)\n",
    "        # extracting zip to folder\n",
    "        with zipfile.ZipFile(zipPath, \"r\") as handle:\n",
    "            handle.extractall(extractPath)\n",
    "        os.remove(zipPath)  # removing zip file\n",
    "    # taking necessary columns and writing into csv file\n",
    "    (pd\n",
    "        .read_csv(os.path.join(extractPath, \"Data\", \"NSPL_FEB_2022_UK.csv\"), usecols=[\"pcds\", \"lat\", \"long\"])\n",
    "        .rename(columns={\"long\":\"lng\"})\n",
    "        .rename(columns=lambda x: x.upper())\n",
    "        .to_csv(PCD_PATH, index=False)\n",
    "    )\n",
    "    shutil.rmtree(extractPath)  # removing folder\n",
    "geo = pd.read_csv(PCD_PATH)"
   ]
  },
  {
   "cell_type": "code",
   "execution_count": null,
   "metadata": {
    "ExecuteTime": {
     "end_time": "2022-02-10T23:05:50.175968Z",
     "start_time": "2022-02-10T23:05:49.606474Z"
    },
    "tags": [
     "remove_input"
    ]
   },
   "outputs": [
    {
     "name": "stdout",
     "output_type": "stream",
     "text": [
      "214.96MB\n",
      "2,673,018 rows\n"
     ]
    },
    {
     "data": {
      "text/html": [
       "<div>\n",
       "<style scoped>\n",
       "    .dataframe tbody tr th:only-of-type {\n",
       "        vertical-align: middle;\n",
       "    }\n",
       "\n",
       "    .dataframe tbody tr th {\n",
       "        vertical-align: top;\n",
       "    }\n",
       "\n",
       "    .dataframe thead th {\n",
       "        text-align: right;\n",
       "    }\n",
       "</style>\n",
       "<table border=\"1\" class=\"dataframe\">\n",
       "  <thead>\n",
       "    <tr style=\"text-align: right;\">\n",
       "      <th></th>\n",
       "      <th>PCDS</th>\n",
       "      <th>LAT</th>\n",
       "      <th>LNG</th>\n",
       "    </tr>\n",
       "  </thead>\n",
       "  <tbody>\n",
       "    <tr>\n",
       "      <th>0</th>\n",
       "      <td>AB1 0AA</td>\n",
       "      <td>57.101474</td>\n",
       "      <td>-2.242851</td>\n",
       "    </tr>\n",
       "    <tr>\n",
       "      <th>1</th>\n",
       "      <td>AB1 0AB</td>\n",
       "      <td>57.102554</td>\n",
       "      <td>-2.246308</td>\n",
       "    </tr>\n",
       "    <tr>\n",
       "      <th>2</th>\n",
       "      <td>AB1 0AD</td>\n",
       "      <td>57.100556</td>\n",
       "      <td>-2.248342</td>\n",
       "    </tr>\n",
       "    <tr>\n",
       "      <th>3</th>\n",
       "      <td>AB1 0AE</td>\n",
       "      <td>57.084444</td>\n",
       "      <td>-2.255708</td>\n",
       "    </tr>\n",
       "    <tr>\n",
       "      <th>4</th>\n",
       "      <td>AB1 0AF</td>\n",
       "      <td>57.096656</td>\n",
       "      <td>-2.258102</td>\n",
       "    </tr>\n",
       "  </tbody>\n",
       "</table>\n",
       "</div>"
      ],
      "text/plain": [
       "      PCDS        LAT       LNG\n",
       "0  AB1 0AA  57.101474 -2.242851\n",
       "1  AB1 0AB  57.102554 -2.246308\n",
       "2  AB1 0AD  57.100556 -2.248342\n",
       "3  AB1 0AE  57.084444 -2.255708\n",
       "4  AB1 0AF  57.096656 -2.258102"
      ]
     },
     "metadata": {},
     "output_type": "display_data"
    }
   ],
   "source": [
    "# hide_input\n",
    "print(to_bytes(geo.memory_usage(deep=True).sum()))\n",
    "print(f\"{geo.shape[0]:,} rows\")\n",
    "geo.head()"
   ]
  },
  {
   "cell_type": "markdown",
   "metadata": {},
   "source": [
    "### House Price Index"
   ]
  },
  {
   "cell_type": "code",
   "execution_count": null,
   "metadata": {
    "ExecuteTime": {
     "end_time": "2022-02-10T23:05:50.414365Z",
     "start_time": "2022-02-10T23:05:50.352496Z"
    }
   },
   "outputs": [],
   "source": [
    "if not os.path.exists(HPI_PATH):\n",
    "    url = \"http://publicdata.landregistry.gov.uk/market-trend-data/house-price-index-data/Indices-2022-02.csv\"\n",
    "    # Parsing file and writing to csv file\n",
    "    (pd.read_csv(url, usecols=[\"Date\", \"Region_Name\", \"Index\"],parse_dates=[\"Date\"])\n",
    "        .query(\"Region_Name == 'England and Wales'\", engine=\"python\")\n",
    "        .set_index(\"Date\").sort_index()\n",
    "        .Index.to_csv(HPI_PATH)\n",
    "    )\n",
    "hpi = pd.read_csv(HPI_PATH)"
   ]
  },
  {
   "cell_type": "code",
   "execution_count": null,
   "metadata": {
    "ExecuteTime": {
     "end_time": "2022-02-10T23:05:50.493141Z",
     "start_time": "2022-02-10T23:05:50.416326Z"
    },
    "tags": [
     "remove_input"
    ]
   },
   "outputs": [
    {
     "name": "stdout",
     "output_type": "stream",
     "text": [
      "24.58KB\n",
      "326 rows\n"
     ]
    },
    {
     "data": {
      "text/html": [
       "<div>\n",
       "<style scoped>\n",
       "    .dataframe tbody tr th:only-of-type {\n",
       "        vertical-align: middle;\n",
       "    }\n",
       "\n",
       "    .dataframe tbody tr th {\n",
       "        vertical-align: top;\n",
       "    }\n",
       "\n",
       "    .dataframe thead th {\n",
       "        text-align: right;\n",
       "    }\n",
       "</style>\n",
       "<table border=\"1\" class=\"dataframe\">\n",
       "  <thead>\n",
       "    <tr style=\"text-align: right;\">\n",
       "      <th></th>\n",
       "      <th>Date</th>\n",
       "      <th>Index</th>\n",
       "    </tr>\n",
       "  </thead>\n",
       "  <tbody>\n",
       "    <tr>\n",
       "      <th>0</th>\n",
       "      <td>1995-01-01</td>\n",
       "      <td>26.440075</td>\n",
       "    </tr>\n",
       "    <tr>\n",
       "      <th>1</th>\n",
       "      <td>1995-02-01</td>\n",
       "      <td>26.369132</td>\n",
       "    </tr>\n",
       "    <tr>\n",
       "      <th>2</th>\n",
       "      <td>1995-03-01</td>\n",
       "      <td>26.401129</td>\n",
       "    </tr>\n",
       "    <tr>\n",
       "      <th>3</th>\n",
       "      <td>1995-04-01</td>\n",
       "      <td>26.604794</td>\n",
       "    </tr>\n",
       "    <tr>\n",
       "      <th>4</th>\n",
       "      <td>1995-05-01</td>\n",
       "      <td>26.645437</td>\n",
       "    </tr>\n",
       "  </tbody>\n",
       "</table>\n",
       "</div>"
      ],
      "text/plain": [
       "         Date      Index\n",
       "0  1995-01-01  26.440075\n",
       "1  1995-02-01  26.369132\n",
       "2  1995-03-01  26.401129\n",
       "3  1995-04-01  26.604794\n",
       "4  1995-05-01  26.645437"
      ]
     },
     "metadata": {},
     "output_type": "display_data"
    }
   ],
   "source": [
    "# hide_input\n",
    "print(to_bytes(hpi.memory_usage(deep=True).sum()))\n",
    "print(f\"{hpi.shape[0]:,} rows\")\n",
    "hpi.head()"
   ]
  },
  {
   "cell_type": "markdown",
   "metadata": {},
   "source": [
    "All the necessary data has now been collected locally, however it is still unusable and thus useless; I will now move onto exploring and analysing the data, performing transformations along the way, in order to make the data better fit and explain the price data."
   ]
  }
 ],
 "metadata": {
  "interpreter": {
   "hash": "dbce26d2a7e4aee829082178a4049a6399d4377e391249388a8d04fde2cdf2bd"
  },
  "kernelspec": {
   "display_name": "Python 3 (ipykernel)",
   "language": "python",
   "name": "python3"
  },
  "language_info": {
   "codemirror_mode": {
    "name": "ipython",
    "version": 3
   },
   "file_extension": ".py",
   "mimetype": "text/x-python",
   "name": "python",
   "nbconvert_exporter": "python",
   "pygments_lexer": "ipython3",
   "version": "3.9.12"
  },
  "toc": {
   "base_numbering": 1,
   "nav_menu": {},
   "number_sections": true,
   "sideBar": true,
   "skip_h1_title": true,
   "title_cell": "Table of Contents",
   "title_sidebar": "Contents",
   "toc_cell": false,
   "toc_position": {},
   "toc_section_display": true,
   "toc_window_display": false
  },
  "varInspector": {
   "cols": {
    "lenName": 16,
    "lenType": 16,
    "lenVar": 40
   },
   "kernels_config": {
    "python": {
     "delete_cmd_postfix": "",
     "delete_cmd_prefix": "del ",
     "library": "var_list.py",
     "varRefreshCmd": "print(var_dic_list())"
    },
    "r": {
     "delete_cmd_postfix": ") ",
     "delete_cmd_prefix": "rm(",
     "library": "var_list.r",
     "varRefreshCmd": "cat(var_dic_list()) "
    }
   },
   "types_to_exclude": [
    "module",
    "function",
    "builtin_function_or_method",
    "instance",
    "_Feature"
   ],
   "window_display": false
  }
 },
 "nbformat": 4,
 "nbformat_minor": 2
}
