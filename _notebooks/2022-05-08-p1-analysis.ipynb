{
 "cells": [
  {
   "cell_type": "markdown",
   "metadata": {},
   "source": [
    "# \"ML Instant House Valuation: Part 1 - Analysis\"\n",
    "> \"A-Level computer science project\"\n",
    "\n",
    "- toc:true\n",
    "- branch: master\n",
    "- badges: true\n",
    "- author: Uzair Patel\n",
    "- categories: [house-prices]"
   ]
  },
  {
   "cell_type": "markdown",
   "metadata": {},
   "source": [
    "## Background\n",
    "\n",
    "I will be creating a house valuation web app which will allow a user to input a set of property features (such as the number of rooms, floor size, property age etc.) and be given an instant valuation based on a machine learning solution. The idea began by brainstorming a number of machine learning related tools; first a weather forecasting tool, then a stock price predictor, but finally I settled with a house price valuation tool. I found it more interesting and challenging to be forced to build, analyse and develop a solution myself, as I could not find material/tutorials for this project online, unlike the many tutorials available for weather nad stock. The project began more as a research task but I decided to develop it as a web service, after stumbling across this [Diamond price prediction project](http://diamonds.foostack.ai/) (now inactive) online."
   ]
  },
  {
   "cell_type": "markdown",
   "metadata": {},
   "source": [
    "## Current systems analysis\n",
    "\n",
    "To get an idea of how my system should function, I will take a look at popular pre-existing house valuation tools. Ideally I would like an indication to the data and methods the tools use, however it is unlikely that I will be able to. The UI and aesthetics is not my main concern in the analysis, but I will also follow and expand on some of the design components that are similar between them all."
   ]
  },
  {
   "cell_type": "markdown",
   "metadata": {},
   "source": [
    "### Zoopla\n",
    "\n",
    "![](images/zoopla-01.jpg)\n",
    "![](images/zoopla-02.jpg)\n",
    "![](images/zoopla-03.jpg)\n",
    "\n",
    "I like Zoopla's system as it is very simple to use and understand, its UI is visually appealing, and it includes other data apart from just the valuation, such as local amneties, making it even more helpful to an end user.\n",
    "The Zoopla valuation uses data already on its databases to instantly valuate the property. Its additional data sources, such as the HM Land Registry, are also provided, which is ideal for my problem as it will allow me to explore and potentially use datasets from the same reliable sources.\n",
    "Unlike Zoopla, I will adopt a system where the end user is asked for the property’s location as well as other property features, such as its total square footage etc., which allow for the valuation of properties that possibly don’t even exist. Additionally, I will provide the last sold price if the input property does exist, similar to how Zoopla does."
   ]
  },
  {
   "cell_type": "markdown",
   "metadata": {},
   "source": [
    "### Yopa\n",
    "\n",
    "![](images/yopa-01.png)\n",
    "![](images/yopa-02.png)\n",
    "\n",
    "I like the simplicity of the Yopa valuation, however only requiring the number of bedrooms and location doesn't seem like it would yield a very accurate result. In my system, I would ideally require at least 5 features for the resulting estimation. Yopa, similar to Zoopla, also implements a low and high estimation alongside its valuation, and I will also attempt to implement this."
   ]
  },
  {
   "cell_type": "markdown",
   "metadata": {},
   "source": [
    "### OnTheMarket\n",
    "\n",
    "![](images/onthemarket-01.png)\n",
    "![](images/onthemarket-02.png)\n",
    "![](images/onthemarket-03.png)\n",
    "\n",
    "I particularly like the UI and aesthetic which OnTheMarket's online valuation system uses. The predicted prices seem to be based on location averages, which I may also implement in my system alongside the machine learning aspect. Additionally, the system requires 15 features in addition to the location, which makes the valuation seem more accurate to the end user, unlike the Yopa valuation which only required the number of bedrooms. I will however reduce the number of required features, and keep all my parameters on a single page, to make the process somewhat easier. I will source data which includes similar features such as the property age, number of rooms, property type etc."
   ]
  },
  {
   "cell_type": "markdown",
   "metadata": {},
   "source": [
    "### End User Questionnaire"
   ]
  },
  {
   "cell_type": "markdown",
   "metadata": {},
   "source": [
    "I asked 3 home-owners questions on their thoughts of the project and how I should develop it; I think the responses of potential users will be particularly helpful in the direction of which the development of my project goes:\n",
    "\n",
    "1. Would you consider an online property valuation as an accurate way to get the price of a property?\n",
    "    * *Response 1:* I would consider an online valuation to get a rough idea of a house's value. I would probably use a tool like this before contacting an estate agent to valuate the property in real life.\n",
    "    * *Response 2:* I'd use an instant valuation tool to see if a property is worth pursuing, it would save a lot of time instead of having to contact somebody myself.\n",
    "    * *Response 3:* I don't think a service like this would be highly accurate but I do think it would give a useful estimation and could give a relatively reliable prediction.\n",
    "<hr style=\"width:0;\">\n",
    "\n",
    "2. What characteristics of a property do you think would most impact its valuation?\n",
    "    * *Response 1:* I think the age, size and property type would be useful in telling the price of a house. However, I believe the value of properties in the area would have greatest impact on a house's price.\n",
    "    * Response 2: The price of surrounding properties would be the most useful in the valuation of a house, along with its total square footage, number of rooms, and perhaps general local area information like population and crime rate.\n",
    "    * *Response 3:* The quality of the neighbourhood of a property and the prices of other houses nearby are the most indicative of a property's value. Property features such as the size and the type also impact a property's valuation greatly.\n",
    "<hr style=\"width:0;\">\n",
    "\n",
    "3. What additional features would you like to see, alongside the valuation?\n",
    "    * *Response 1:* I'd like to see the average price of houses in the local area, or perhaps the average price of similar property types.\n",
    "    * *Response 2:* I think it'd be helpful to see local area statistics such as the population and average house price in the area. Additionally, I don't think a point estimation is a very helpful so I'd like to see an valuation with an associated interval, with a low and high estimation.\n",
    "    * *Response 3:* It would be interesting to get predictions for the price of a property years in the future. It would also be helpful to see the previous sold price of a property.\n",
    "<hr style=\"width:0;\">\n",
    "\n",
    "4. How would you like the information displayed to you?\n",
    "    * *Response 1:* I'd like to see the information displayed as simply as it can, clutter and unnecessary information can be quite annoying - like asking for email and other data that has nothing to do with the actual predictions. I would prefer all the information easily visible in one window.\n",
    "    * *Response 2:* I think displaying a map of the property's area along with its valuation would be helpful, especially for people who consider moving into the area. There should be an option to have the predictions emailed to you, but not as a requirement.\n",
    "    * *Response 3:* A simple web form should suffice for inputting the property details. The output could be given in a separate page or pop-up with all the information.\n",
    "<hr style=\"width:0;\">\n",
    "\n",
    "In conclusion, the home-owners would consider using the service as a **rough estimate** for a property's value **before seeking professional advice**. All 3 participants think that local area information could be useful in the valuation, as well as the property size and type. I liked the idea to include local area statistics in the output to the user, and I agree that unnecessary clutter should be avoided when serving the information to the end user."
   ]
  },
  {
   "cell_type": "markdown",
   "metadata": {},
   "source": [
    "## Problem Modelling\n",
    "\n",
    "My initial thoughts on how to approach the problem.\n",
    "I will try implement the system in four (or potentially five) stages:\n",
    "* *Stage 1.* Data sourcing - collecting and stitching data from various sources to build a large dataset (aiming for around 1 million rows).\n",
    "* *Stage 2.* Data sanitisation and preprocessing - transforming the dataset and its features to allow for predictive modelling\n",
    "* *Stage 3.* Model training - testing and training various machine learning models on the dataset to maximise accuracy\n",
    "* *Stage 4.* Web development - implementing the server and client side for users to access.\n",
    "* *(if possible) Stage 5.* App deployment - deploying the client-server model to the web for potential use.\n",
    "\n",
    "Below covers the general implementation and structure of the project, split into its distinct stages.\n",
    "\n",
    "![](images/ml-workflow.png)\n",
    "![](images/uml-draft.png)\n",
    "\n",
    "I am currently unclear on what machine learning models to use and how to preprocess the data. These decisions will be made as the data is collected and in exploratory data analysis. I will fit multiple models on the dataset and test their performance to pick an algorithm, I may also ensemble/stack multiple models if it proves useful. I may need a database for features of the model which require context from the inputs provided by the end user, such as geospatial or local area data.\n",
    "\n",
    "The web service itself, which will serve the predictions to the end user, will look somewhere along the lines of:\n",
    "\n",
    "<img src=\"images/interface.png\" width=\"400\">\n",
    "\n",
    "Drawing inspiration from the Zoopla and OnTheMarket user interfaces, with a simple form, an interval prediction, and a map of the area using Google Maps API.\n"
   ]
  },
  {
   "cell_type": "markdown",
   "metadata": {},
   "source": [
    "## Algorithms"
   ]
  },
  {
   "cell_type": "markdown",
   "metadata": {},
   "source": [
    "### Conformal prediction"
   ]
  },
  {
   "cell_type": "markdown",
   "metadata": {},
   "source": [
    "Conformal prediction is a technique used to assess the uncertainty of predictions produced by a machine learning model. In particular, given an input, conformal prediction estimates a prediction interval in regression problems and a set of classes in classification problems. Both the prediction interval and sets cover the true value with high probability (usually provided by the user).\n",
    "Steps to producing a conformal prediction model:\n",
    "1. Identify a score function to measure the discrepancy between model outputs $\\hat y$ and expected outputs $y$. This metric is critical as it decides what prediction sets can be obtained. For instance, in regression problems, we could take the absolute error $|\\hat y - y|$ as the score function.\n",
    "2. Compute nonconformity scores for the model by splitting the training set into a proper set and calibration set. The model is only trained on the proper training set; and scores are computed on the calibration set where $S_n = S(\\hat y_n, y_n)$ for the $n$<sup>th</sup> sample.\n",
    "3. Prediction - use the underlying algorithm to make a point prediction $\\hat y$ and take the ($1 - \\alpha$)<sup>th</sup> quantile $Q$ from the score set - where $\\alpha$ is a user-provided significance level. Output $\\hat y \\pm Q$ as the model's prediction."
   ]
  },
  {
   "cell_type": "markdown",
   "metadata": {},
   "source": [
    "### Stochastic gradient descent and linear regression"
   ]
  },
  {
   "cell_type": "markdown",
   "metadata": {},
   "source": [
    "Regression models are used to describe relationships between variables by fitting a line to the observed data. Multiple linear regression is used to estimate the relationship between multiple independent variables and one dependent variable. The model makes assumptions about the dataset:\n",
    "\n",
    "* **Homogeneity of variance (homoscedasticity)** - the observations in the dataset must be about the same distance from the regression line.\n",
    "\n",
    "  ![](images/homoscedasticity.png)\n",
    "\n",
    "* **Independence of observations** - there are no hidden relationships among independent variables.\n",
    "* **Normality** - the data follows a normal distribution.\n",
    "* **Linearity** - the line of best fit through the data points is a straight line, not some polynomial/exponential curve\n",
    "\n",
    "Multiple linear regression generalises a dataset as the output being a weighted summation of its inputs.\n",
    "$$\n",
    "\\hat y_i = b + \\sum^n_{k=0} w_k x_{ik}\\\\\n",
    "$$\n",
    "In matrix form, it can be written as a dot product, as shown:\n",
    "$$\n",
    "\\hat y = w\\cdot x + b\n",
    "$$\n",
    "Where,  \n",
    "$\\hat y$: predicted  \n",
    "$x$: independent variables vector  \n",
    "$w$: coefficients vector i.e weights  \n",
    "$b$: constant term i.e bias  \n",
    "\n",
    "The stochastic gradient descent algorithm is used to adjust the weights and bias for the model. The algorithm requires a differentiable cost function in order to derive the gradients of each adjustable parameter. I will be using the **half mean squared** cost function, as it will differentiate nicely making it a lot easier to implement. The cost function is defined as such,\n",
    "$$\n",
    "J(w,b) = \\frac 1{2n}\\sum_{i=1}^n(wx_i + b - y_i)^2\n",
    "$$\n",
    "The goal is to find the values of the $w$ and $b$ terms which minimise the error. This can be done by taking the partial derivative (gradient) of the cost function $J$ with respect each parameter,\n",
    "$$\n",
    "\\frac {\\partial J}{\\partial b} = \\frac 1n\\sum_{i=1}^n (\\hat{y}_i - y_i) \\\\\n",
    "\\frac {\\partial J}{\\partial w} = \\frac 1n\\sum_{i=1}^n x_i(\\hat{y}_i - y_i) = \\frac 1n x \\cdot (\\hat{y} - y)\n",
    "$$\n",
    "Where $\\eta$ is the learning rate, iteratively update the parameters until they converge,\n",
    "$$\n",
    "  b := b - \\eta \\cdot \\partial b \\\\\n",
    "  w := w - \\eta \\cdot \\partial w \n",
    "$$\n",
    "\n",
    "The implementation of linear regression with stochastic gradient descent will be a great starting point when implementing the more complex multilayer perceptron model, which similarly uses the weighted summation function to make predictions and a gradient descent algorithm to optimise its parameters."
   ]
  },
  {
   "cell_type": "markdown",
   "metadata": {},
   "source": [
    "### Multilayer Perceptron"
   ]
  },
  {
   "cell_type": "markdown",
   "metadata": {},
   "source": [
    "A multilayer perceptron is a feed-forward neural network consisting of at least three layers of nodes; an input layer, a hidden layer, and an output layer.\n",
    "\n",
    "![](images/neural-network.png)\n",
    "\n",
    "The input layer receives an input signal to be processed. The model's prediction is performed by the output layer. The hidden layers between the input and output layer are the computational engine of the model. MLPs can be used to approximate any continuous function, and can solve problems which are not linearly separable by using non-linear activation functions.\n",
    "\n",
    "![](images/neuron.jpeg)\n",
    "\n",
    "An MLP learns in two stages:\n",
    "* **Forward propagation**, where data is fed from the input layer through the hidden layers to the output layer. For a general model of $L$ layers with weights $W$ and activation functions $\\sigma$, forward propagation can be expressed as a function composition as shown:\n",
    "$$\n",
    "F(x) = \\sigma_N(W_L\\cdot \\sigma_{L-1}(W_{L-1}\\cdots \\sigma_2(W_2\\cdot \\sigma_1(W_1\\cdot x))\\cdots))\\\\\n",
    "$$\n",
    "* **Backpropagation**, where by using the chain rule, the partial derivatives of the loss function w.r.t. the various weights and biases are fed back through the network from the output layer through to the input layer. The differentiation produces a gradient along which the parameters may be adjusted towards the minima. See **Backpropagation algorithm** for more detail.\n",
    "\n",
    "    ![](images/sgd.png)\n",
    "    \n",
    "These stages are repeated until the loss converges towards a minimum. "
   ]
  },
  {
   "cell_type": "markdown",
   "metadata": {},
   "source": [
    "### Backpropagation algorithm"
   ]
  },
  {
   "cell_type": "markdown",
   "metadata": {},
   "source": [
    "Backpropagation is a widely used algorithm for training feed-forward neural networks used to compute the gradient of a loss function with respect to the weights of a network for a training set of input-output examples. The gradient computed by backpropagation can be used with other algorithms such as Stochastic Gradient Descent (or its derivatives) to update the weights and minimise error in a network.\n",
    "\n",
    "Below shows the mathematical logic behind the algorithm. The following example is for a feed-forward network of $L$ layers.\n",
    "\n",
    "$$\n",
    "F(x) = \\sigma_N(W_L\\cdot \\sigma_{L-1}(W_{L-1}\\cdots \\sigma_2(W_2\\cdot \\sigma_1(W_1\\cdot x))\\cdots))\\\\\n",
    "Cost = J(y, F(x))\n",
    "$$\n",
    "\n",
    "For the model above, the derivative of the loss w.r.t. the input $x$ using the chain rule is generalised as such:\n",
    "$$\n",
    "\\text{Chain rule}: \\\\F(x) = f(g(x)) \\qquad F'(x) = f'(g(x)) \\cdot g'(x) \\\\\n",
    "\\text{derivative of compound function} = \\text{derivative of outer function} \\times \\text{derivative of inner function}\\\\[1em]\n",
    "\\therefore\\quad\\frac{dJ}{dx} = \\frac{dJ}{da_L} \\circ \\sigma_L' \\cdot W_L \\circ \\sigma_{L-1}' \\cdot W_{L-1} \\cdots \\circ \\sigma_1' \\cdot W_1\n",
    "$$\n",
    "The gradient $\\nabla$ is the transpose of the derivative of the loss w.r.t. the input, therefore, the matrices are transposed and the order of multiplication is reversed, such that:\n",
    "$$\n",
    "\\nabla_xJ = W_1^T \\cdot \\sigma_1' \\cdots \\circ W_{L-1}^T \\cdot \\sigma_{L-1}' \\circ W_L^T \\cdot \\sigma_L' \\circ \\nabla_{a_L}J\n",
    "$$\n",
    "The backpropagation consists of then evaluating this expression from right to left, i.e starting from the output layer, computing the gradient at each layer on the way. To avoid unneccessary repeated computation of expressions, we can introduce a new variable $\\delta_l$, the \"error at layer $l$\". This variable is a vector with length of the number of nodes in its associated layer. Each value can be interpreted as the loss attributable to that node for the given input-output sample. $\\delta_l$ can then be computed recursively, starting backwards from layer $L \\rightarrow 1$, such that:\n",
    "$$\\delta_{l-1} := \\sigma_{l-1}' \\circ W_l^T \\cdot \\delta_l$$ \n",
    "The gradients of the weights can then be calculated, such that:\n",
    "$$\\nabla_{W_l}J = \\delta_l \\cdot a_{l-1}^T$$\n",
    "Finally, the weights be updated (demonstrated here with stochastic gradient descent), such that:\n",
    "$$\n",
    "W_l := W_l - \\eta \\cdot \\nabla_{W_l}J\\\\\n",
    "$$\n",
    "\n",
    "Where,  \n",
    "$L$ : Number of layers in network  \n",
    "$\\sigma$ : Non-linear activation function  \n",
    "$J$ : Loss function taking parameters $y$ (expected output), and $\\hat y$ (actual output)  \n",
    "$W_l$ : Weight matrix of $l$<sup>th</sup> layer; all the connections between nodes in current and next layer.   \n",
    "$a_l$ : Activated output of $l$<sup>th</sup> layer  \n",
    "$\\delta_l$ : Error at $l$<sup>th</sup> layer  \n",
    "$\\eta$ : Learning rate of SGD algorithm  \n",
    "$A^T$ : Transpose of matrix $A$  \n",
    "$\\nabla_ba$ : Gradient of $a$ w.r.t $b$  \n",
    "$\\circ$ : Hadamard (element-wise) matrix multiplication, products taken from left to right  "
   ]
  },
  {
   "cell_type": "markdown",
   "metadata": {},
   "source": [
    "### CART algorithm"
   ]
  },
  {
   "cell_type": "markdown",
   "metadata": {},
   "source": [
    "The CART (Classification and Regression Tree) algorithm is a divide-and-conquer algorithm used to build a decision tree (as a predictive model) to predict the output of a given sample, using attributes observed in a given training set. The model is very intuitive and easy to interpret/explain. Furthermore, it is robust and does not require any prior normalisation or scaling of the dataset. It is also unaffected by outliers and finds important variables automatically, unlike linear regression models. However, decision trees are prone to overfitting, and small changes to the dataset can cause a large change in tree structure causing instability. The algorithm, while can be modelled to perform the task, is inadequate for applying regression and predicting continuous values, and cannot extrapolate beyond its observed set. To mitigate some of these issues, decision trees are often used in ensemble methods including random forests and gradient boosting machines, which aim to reduce overfitting.\n",
    "\n",
    "The algorithm performs binary splits using the features of a dataset to build a tree, until all of the nodes are ideally \"pure\".\n",
    "\n",
    "![](https://bookdown.org/tpinto_home/Beyond-Additivity/tree.png)\n",
    "\n",
    "Optimal splits are found by comparing the impurity of multiple potential splits. Popular metrics used to measure impurity are:\n",
    "* Gini impurity (classification) - calculates the probability that a specific feature is classified incorrectly when selected randomly. A pure node of gini index 0 indicates that all its contained elements are of one unique class.\n",
    "  $$\n",
    "  \\textit{Gini} = 1 - \\sum^n_{k=1}P_k^2\n",
    "  $$\n",
    "  Where $P_i$ is the probability of class $k$.\n",
    "\n",
    "* Variance reduction (regression) - variance is used for calculating the homogeneity of a node. If a node is entirely homogeneous, i.e pure, then the variance is zero.\n",
    "  $$\n",
    "  \\textit{Var}(y) = \\frac 1n\\sum^n_{i=1}(y_i-\\bar y)^2\\\\\n",
    "  $$\n",
    "  Where $\\bar y$ is the mean of input data $y$\n",
    "\n",
    "![](https://upload.wikimedia.org/wikipedia/commons/thumb/f/ff/Entropy-illustration.png/422px-Entropy-illustration.png)\n",
    "\n",
    "To determine the quality of a split using some impurity metric, we use information gain, which can be described as the reduction of information entropy $H$ from a prior state (parent node) to a new state (split into children nodes):\n",
    "$$\n",
    "\\text{Gain} = \\text{Entropy of parent node} - \\text{Average entropy of children nodes}\\\\\n",
    "IG(p,l,r) = H(p) - \\frac 1{n_p} (n_lH(l) + n_rH(r)) \n",
    "$$\n",
    "Where,  \n",
    "$p$: parent node  \n",
    "$l$: left subtree  \n",
    "$r$: right subtree  \n",
    "$n_x$: number of elements in a set $x$  \n",
    "$H(x)$: entropy metric function\n",
    "\n",
    "The algorithm starts at the root node, with the entire dataset. It then compares potential splits (all permutations of features and unique thresholds) and chooses the split with the highest information gain. It then recursively repeats this process on the its resulting splits until the nodes are pure, or until the process is stopped manually. The algorithm is stopped by user specified parameters, such as when the tree grows to a maximum depth provided or if a split produces a minimum number of samples.\n"
   ]
  },
  {
   "cell_type": "markdown",
   "metadata": {},
   "source": [
    "### Random forest"
   ]
  },
  {
   "cell_type": "markdown",
   "metadata": {},
   "source": [
    "\n",
    "Random forests are a bagging ensemble learning method which construct multiple decision trees at training time.  In the bagging method, also known as bootstrap aggregation, a random sample from the training set is selected with replacement - allowing data points to be used multiple times. After several data samples are generated, a number of estimators are then individually trained. When making a prediction, outputs from each indiviual tree are aggregated to yield a more accurate result; for regression the mean is taken, and for classification the majority vote.\n",
    "\n",
    "![](images/random-forest.jpg)"
   ]
  },
  {
   "cell_type": "markdown",
   "metadata": {},
   "source": [
    "### Gradient boosting machine"
   ]
  },
  {
   "cell_type": "markdown",
   "metadata": {},
   "source": [
    "Gradient boosting is a boosting ensemble learning method that combines a set of weak learners (decision trees) into a single strong learner to minimise training errors. In boosting, a random sample of data is selected, fitted with a model and trained sequentially; each model tries to improve the errors of its predecessor, by training on the previous predictor's residual errors. The method combines both the gradient descent and boosting methods, hence the name gradient boosting.\n",
    "\n",
    "![](images/gradient-boosting.png)"
   ]
  }
 ],
 "metadata": {
  "interpreter": {
   "hash": "dbce26d2a7e4aee829082178a4049a6399d4377e391249388a8d04fde2cdf2bd"
  },
  "kernelspec": {
   "display_name": "Python 3 (ipykernel)",
   "language": "python",
   "name": "python3"
  },
  "language_info": {
   "codemirror_mode": {
    "name": "ipython",
    "version": 3
   },
   "file_extension": ".py",
   "mimetype": "text/x-python",
   "name": "python",
   "nbconvert_exporter": "python",
   "pygments_lexer": "ipython3",
   "version": "3.9.12"
  },
  "toc": {
   "base_numbering": 1,
   "nav_menu": {},
   "number_sections": true,
   "sideBar": true,
   "skip_h1_title": true,
   "title_cell": "Table of Contents",
   "title_sidebar": "Contents",
   "toc_cell": false,
   "toc_position": {},
   "toc_section_display": true,
   "toc_window_display": false
  },
  "varInspector": {
   "cols": {
    "lenName": 16,
    "lenType": 16,
    "lenVar": 40
   },
   "kernels_config": {
    "python": {
     "delete_cmd_postfix": "",
     "delete_cmd_prefix": "del ",
     "library": "var_list.py",
     "varRefreshCmd": "print(var_dic_list())"
    },
    "r": {
     "delete_cmd_postfix": ") ",
     "delete_cmd_prefix": "rm(",
     "library": "var_list.r",
     "varRefreshCmd": "cat(var_dic_list()) "
    }
   },
   "types_to_exclude": [
    "module",
    "function",
    "builtin_function_or_method",
    "instance",
    "_Feature"
   ],
   "window_display": false
  }
 },
 "nbformat": 4,
 "nbformat_minor": 2
}
